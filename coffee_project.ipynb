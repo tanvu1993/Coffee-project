{
 "cells": [
  {
   "cell_type": "code",
   "execution_count": 1,
   "metadata": {},
   "outputs": [],
   "source": [
    "### Import data & libraries\n",
    "import numpy as np\n",
    "import pandas as pd\n",
    "import seaborn as sns\n",
    "import ipystata\n",
    "import mysql.connector\n",
    "from sqlalchemy import create_engine\n",
    "import statsmodels.api as sm\n",
    "import statsmodels.formula.api as smf"
   ]
  },
  {
   "cell_type": "code",
   "execution_count": 2,
   "metadata": {},
   "outputs": [
    {
     "name": "stderr",
     "output_type": "stream",
     "text": [
      "C:\\Users\\USER\\AppData\\Local\\Temp\\ipykernel_8320\\1035671170.py:10: UserWarning: pandas only supports SQLAlchemy connectable (engine/connection) or database string URI or sqlite3 DBAPI2 connection. Other DBAPI2 objects are not tested. Please consider using SQLAlchemy.\n",
      "  df = pd.read_sql(query, connection)\n"
     ]
    },
    {
     "name": "stdout",
     "output_type": "stream",
     "text": [
      "   tinh_2016  quan_2016  xa_2016  ma_h0_2016 p5ma_ p15q1_  p15q2_ p15q3a_  \\\n",
      "0        105          3       21          15    a8      1     100     264   \n",
      "1        105          3       21          15    a2      5     100    1000   \n",
      "2        105          3       21          15    a5      1     100     200   \n",
      "3        105          5       53           1    a6     19      80      98   \n",
      "4        105          5       53           1    a5      1     100     300   \n",
      "\n",
      "  p15q3b_ p15q4_  ... p8q8_ p8q9_ p8q10_ p9q2_ p9q8_ p12q1_ p12q2a_ p12q2b_  \\\n",
      "0       1      1  ...   2.0     2   15.0   NaN   NaN    2.0                   \n",
      "1       1      2  ...   2.0     2    3.0   NaN   NaN    2.0                   \n",
      "2       1      1  ...   2.0     2   15.0   NaN   NaN    2.0                   \n",
      "3       1      2  ...   2.0     2    0.0   NaN   NaN    1.0       6       0   \n",
      "4       1      1  ...   2.0     2    5.0   NaN   NaN    2.0                   \n",
      "\n",
      "   p13aq1_  organic_fertilizer  \n",
      "0        2               800.0  \n",
      "1        2               800.0  \n",
      "2        2               800.0  \n",
      "3        2                 0.0  \n",
      "4        2                 0.0  \n",
      "\n",
      "[5 rows x 42 columns]\n"
     ]
    }
   ],
   "source": [
    "# Establish connection\n",
    "connection = mysql.connector.connect(\n",
    "    host='localhost',       # e.g., 'localhost'\n",
    "    user='root',   # e.g., 'root'\n",
    "    password='Taichi!993',\n",
    "    database='varhs'\n",
    ")\n",
    "\n",
    "query = \"SELECT * FROM agri_production\"\n",
    "df = pd.read_sql(query, connection)\n",
    "print(df.head())\n",
    "\n",
    "# Close the connection\n",
    "connection.close()"
   ]
  },
  {
   "cell_type": "code",
   "execution_count": 3,
   "metadata": {},
   "outputs": [
    {
     "data": {
      "application/vnd.microsoft.datawrangler.viewer.v0+json": {
       "columns": [
        {
         "name": "index",
         "rawType": "int64",
         "type": "integer"
        },
        {
         "name": "tinh_2016",
         "rawType": "int64",
         "type": "integer"
        },
        {
         "name": "quan_2016",
         "rawType": "int64",
         "type": "integer"
        },
        {
         "name": "xa_2016",
         "rawType": "int64",
         "type": "integer"
        },
        {
         "name": "ma_h0_2016",
         "rawType": "int64",
         "type": "integer"
        },
        {
         "name": "plot_code",
         "rawType": "object",
         "type": "string"
        },
        {
         "name": "crop_season_1",
         "rawType": "object",
         "type": "string"
        },
        {
         "name": "percent_area_season_1",
         "rawType": "int64",
         "type": "integer"
        },
        {
         "name": "crop_quantity_season_1",
         "rawType": "float64",
         "type": "float"
        },
        {
         "name": "crop_unit_1",
         "rawType": "object",
         "type": "string"
        },
        {
         "name": "crop_reason_1",
         "rawType": "category",
         "type": "unknown"
        },
        {
         "name": "crop_season_2",
         "rawType": "object",
         "type": "string"
        },
        {
         "name": "percent_area_season_2",
         "rawType": "int64",
         "type": "integer"
        },
        {
         "name": "crop_quantity_season_2",
         "rawType": "int64",
         "type": "integer"
        },
        {
         "name": "crop_unit_2",
         "rawType": "object",
         "type": "string"
        },
        {
         "name": "crop_season_3",
         "rawType": "object",
         "type": "string"
        },
        {
         "name": "percent_area_season_3",
         "rawType": "int64",
         "type": "integer"
        },
        {
         "name": "crop_quantity_season_3",
         "rawType": "int64",
         "type": "integer"
        },
        {
         "name": "crop_unit_3",
         "rawType": "object",
         "type": "string"
        },
        {
         "name": "distance",
         "rawType": "float64",
         "type": "float"
        },
        {
         "name": "total_area",
         "rawType": "float64",
         "type": "float"
        },
        {
         "name": "land_type",
         "rawType": "category",
         "type": "unknown"
        },
        {
         "name": "slope",
         "rawType": "category",
         "type": "unknown"
        },
        {
         "name": "problems",
         "rawType": "category",
         "type": "unknown"
        },
        {
         "name": "plot_quality_village",
         "rawType": "category",
         "type": "unknown"
        },
        {
         "name": "plot_quality_last_3_years",
         "rawType": "category",
         "type": "unknown"
        },
        {
         "name": "irrigation",
         "rawType": "category",
         "type": "unknown"
        },
        {
         "name": "water_source",
         "rawType": "category",
         "type": "unknown"
        },
        {
         "name": "conservation_infrastructure_1",
         "rawType": "object",
         "type": "string"
        },
        {
         "name": "conservation_infrastructure_2",
         "rawType": "object",
         "type": "unknown"
        },
        {
         "name": "manager_owned_plot",
         "rawType": "float64",
         "type": "float"
        },
        {
         "name": "red_book",
         "rawType": "category",
         "type": "unknown"
        },
        {
         "name": "why_no_red_book",
         "rawType": "category",
         "type": "unknown"
        },
        {
         "name": "obtain_mortgage",
         "rawType": "category",
         "type": "unknown"
        },
        {
         "name": "could_obtain_mortgate",
         "rawType": "category",
         "type": "unknown"
        },
        {
         "name": "fallow_owned_plot",
         "rawType": "float64",
         "type": "float"
        },
        {
         "name": "natural_disaster",
         "rawType": "category",
         "type": "unknown"
        },
        {
         "name": "organic_fertilizer",
         "rawType": "float64",
         "type": "float"
        },
        {
         "name": "Coffee_plot",
         "rawType": "int64",
         "type": "integer"
        },
        {
         "name": "crop_1",
         "rawType": "category",
         "type": "unknown"
        },
        {
         "name": "crop_2",
         "rawType": "category",
         "type": "unknown"
        },
        {
         "name": "crop_3",
         "rawType": "category",
         "type": "unknown"
        },
        {
         "name": "Coffee_quantity",
         "rawType": "float64",
         "type": "float"
        },
        {
         "name": "Coffee_area_percent",
         "rawType": "int64",
         "type": "integer"
        },
        {
         "name": "Coffee_area",
         "rawType": "float64",
         "type": "float"
        },
        {
         "name": "Coffee_quantity_tonnes",
         "rawType": "float64",
         "type": "float"
        },
        {
         "name": "Coffee_area_hectare",
         "rawType": "float64",
         "type": "float"
        },
        {
         "name": "Coffee_productivity",
         "rawType": "float64",
         "type": "float"
        },
        {
         "name": "tinh_2016_label",
         "rawType": "category",
         "type": "unknown"
        }
       ],
       "conversionMethod": "pd.DataFrame",
       "ref": "f0beb63b-1ab6-4415-a7b8-bd2a2ff33cb2",
       "rows": [
        [
         "1720",
         "302",
         "11",
         "15",
         "24",
         "a18",
         "11",
         "100",
         "2500.0",
         "kg",
         "High productivity/High efficiency",
         "",
         "0",
         "0",
         "",
         "",
         "0",
         "0",
         "",
         "20.0",
         "2500.0",
         "PERENNIAL CROPS LAND",
         "MODERATE SLOPE",
         "DRY LAND",
         "AVERAGE",
         "NO CHANGE",
         "No",
         null,
         "NONE",
         null,
         "1.0",
         "No",
         "LAND ACQUIRED THAT PREVIOUSLY DID NOT BELONG TO ANYBODY",
         "No",
         "No",
         "0.0",
         "No",
         "1000.0",
         "1",
         "Coffee",
         null,
         null,
         "2500.0",
         "100",
         "2500.0",
         "2.5",
         "0.25",
         "10.0",
         "Others"
        ],
        [
         "1723",
         "302",
         "11",
         "15",
         "92",
         "a6",
         "11",
         "100",
         "360.0",
         "kg",
         "High productivity/High efficiency",
         "",
         "0",
         "0",
         "",
         "",
         "0",
         "0",
         "",
         "1000.0",
         "800.0",
         "PERENNIAL CROPS LAND",
         "SLIGHT SLOPE",
         "DRY LAND",
         "AVERAGE",
         "NO CHANGE",
         "Yes",
         "WATER FROM SPRING, RIVER",
         "NONE",
         null,
         "2.0",
         "No",
         "LAND ACQUIRED THAT PREVIOUSLY DID NOT BELONG TO ANYBODY",
         "No",
         "No",
         "0.0",
         "No",
         "1800.0",
         "1",
         "Coffee",
         null,
         null,
         "360.0",
         "100",
         "800.0",
         "0.36",
         "0.08",
         "4.5",
         "Others"
        ],
        [
         "1724",
         "302",
         "11",
         "15",
         "92",
         "a5",
         "11",
         "100",
         "320.0",
         "kg",
         "High productivity/High efficiency",
         "",
         "0",
         "0",
         "",
         "",
         "0",
         "0",
         "",
         "1000.0",
         "700.0",
         "PERENNIAL CROPS LAND",
         "SLIGHT SLOPE",
         "DRY LAND",
         "AVERAGE",
         "NO CHANGE",
         "Yes",
         "WATER FROM SPRING, RIVER",
         "NONE",
         null,
         "2.0",
         "No",
         "AGREEMENT (VERBAL) TO USE LAND, BUT DO NOT YET POSSESS RED BOOK",
         "No",
         "No",
         "0.0",
         "No",
         "1800.0",
         "1",
         "Coffee",
         null,
         null,
         "320.0",
         "100",
         "700.0",
         "0.32",
         "0.07",
         "4.57",
         "Others"
        ],
        [
         "1780",
         "605",
         "1",
         "33",
         "24",
         "a2",
         "11",
         "100",
         "1200.0",
         "kg",
         "Traditional crop",
         "",
         "0",
         "0",
         "",
         "",
         "0",
         "0",
         "",
         "1000.0",
         "4000.0",
         "PERENNIAL CROPS LAND",
         "FLAT",
         "DRY LAND",
         "AVERAGE",
         "GOT SOMEWHAT WORSE",
         "Yes",
         "DUG WELL",
         "NONE",
         null,
         "1.0",
         "Yes",
         null,
         "No",
         "Yes",
         "0.0",
         "No",
         "30000.0",
         "1",
         "Coffee",
         null,
         null,
         "1200.0",
         "100",
         "4000.0",
         "1.2",
         "0.4",
         "3.0",
         "Dak Lak"
        ],
        [
         "1781",
         "605",
         "1",
         "39",
         "24",
         "a4",
         "16",
         "100",
         "230.0",
         "kg",
         "High productivity/High efficiency",
         "11",
         "100",
         "400",
         "kg",
         "",
         "0",
         "0",
         "",
         "1000.0",
         "2000.0",
         "PERENNIAL CROPS LAND",
         "FLAT",
         "DRY LAND",
         "AVERAGE",
         "GOT SOMEWHAT WORSE",
         "Yes",
         "BORE WELL",
         "NONE",
         null,
         "1.0",
         "Yes",
         null,
         "No",
         "Yes",
         "0.0",
         "Yes",
         "6000.0",
         "1",
         "Pepper",
         "Coffee",
         null,
         "400.0",
         "100",
         "2000.0",
         "0.4",
         "0.2",
         "2.0",
         "Dak Lak"
        ]
       ],
       "shape": {
        "columns": 48,
        "rows": 5
       }
      },
      "text/html": [
       "<div>\n",
       "<style scoped>\n",
       "    .dataframe tbody tr th:only-of-type {\n",
       "        vertical-align: middle;\n",
       "    }\n",
       "\n",
       "    .dataframe tbody tr th {\n",
       "        vertical-align: top;\n",
       "    }\n",
       "\n",
       "    .dataframe thead th {\n",
       "        text-align: right;\n",
       "    }\n",
       "</style>\n",
       "<table border=\"1\" class=\"dataframe\">\n",
       "  <thead>\n",
       "    <tr style=\"text-align: right;\">\n",
       "      <th></th>\n",
       "      <th>tinh_2016</th>\n",
       "      <th>quan_2016</th>\n",
       "      <th>xa_2016</th>\n",
       "      <th>ma_h0_2016</th>\n",
       "      <th>plot_code</th>\n",
       "      <th>crop_season_1</th>\n",
       "      <th>percent_area_season_1</th>\n",
       "      <th>crop_quantity_season_1</th>\n",
       "      <th>crop_unit_1</th>\n",
       "      <th>crop_reason_1</th>\n",
       "      <th>...</th>\n",
       "      <th>crop_1</th>\n",
       "      <th>crop_2</th>\n",
       "      <th>crop_3</th>\n",
       "      <th>Coffee_quantity</th>\n",
       "      <th>Coffee_area_percent</th>\n",
       "      <th>Coffee_area</th>\n",
       "      <th>Coffee_quantity_tonnes</th>\n",
       "      <th>Coffee_area_hectare</th>\n",
       "      <th>Coffee_productivity</th>\n",
       "      <th>tinh_2016_label</th>\n",
       "    </tr>\n",
       "  </thead>\n",
       "  <tbody>\n",
       "    <tr>\n",
       "      <th>1720</th>\n",
       "      <td>302</td>\n",
       "      <td>11</td>\n",
       "      <td>15</td>\n",
       "      <td>24</td>\n",
       "      <td>a18</td>\n",
       "      <td>11</td>\n",
       "      <td>100</td>\n",
       "      <td>2500.0</td>\n",
       "      <td>kg</td>\n",
       "      <td>High productivity/High efficiency</td>\n",
       "      <td>...</td>\n",
       "      <td>Coffee</td>\n",
       "      <td>NaN</td>\n",
       "      <td>NaN</td>\n",
       "      <td>2500.0</td>\n",
       "      <td>100</td>\n",
       "      <td>2500.0</td>\n",
       "      <td>2.50</td>\n",
       "      <td>0.25</td>\n",
       "      <td>10.00</td>\n",
       "      <td>Others</td>\n",
       "    </tr>\n",
       "    <tr>\n",
       "      <th>1723</th>\n",
       "      <td>302</td>\n",
       "      <td>11</td>\n",
       "      <td>15</td>\n",
       "      <td>92</td>\n",
       "      <td>a6</td>\n",
       "      <td>11</td>\n",
       "      <td>100</td>\n",
       "      <td>360.0</td>\n",
       "      <td>kg</td>\n",
       "      <td>High productivity/High efficiency</td>\n",
       "      <td>...</td>\n",
       "      <td>Coffee</td>\n",
       "      <td>NaN</td>\n",
       "      <td>NaN</td>\n",
       "      <td>360.0</td>\n",
       "      <td>100</td>\n",
       "      <td>800.0</td>\n",
       "      <td>0.36</td>\n",
       "      <td>0.08</td>\n",
       "      <td>4.50</td>\n",
       "      <td>Others</td>\n",
       "    </tr>\n",
       "    <tr>\n",
       "      <th>1724</th>\n",
       "      <td>302</td>\n",
       "      <td>11</td>\n",
       "      <td>15</td>\n",
       "      <td>92</td>\n",
       "      <td>a5</td>\n",
       "      <td>11</td>\n",
       "      <td>100</td>\n",
       "      <td>320.0</td>\n",
       "      <td>kg</td>\n",
       "      <td>High productivity/High efficiency</td>\n",
       "      <td>...</td>\n",
       "      <td>Coffee</td>\n",
       "      <td>NaN</td>\n",
       "      <td>NaN</td>\n",
       "      <td>320.0</td>\n",
       "      <td>100</td>\n",
       "      <td>700.0</td>\n",
       "      <td>0.32</td>\n",
       "      <td>0.07</td>\n",
       "      <td>4.57</td>\n",
       "      <td>Others</td>\n",
       "    </tr>\n",
       "    <tr>\n",
       "      <th>1780</th>\n",
       "      <td>605</td>\n",
       "      <td>1</td>\n",
       "      <td>33</td>\n",
       "      <td>24</td>\n",
       "      <td>a2</td>\n",
       "      <td>11</td>\n",
       "      <td>100</td>\n",
       "      <td>1200.0</td>\n",
       "      <td>kg</td>\n",
       "      <td>Traditional crop</td>\n",
       "      <td>...</td>\n",
       "      <td>Coffee</td>\n",
       "      <td>NaN</td>\n",
       "      <td>NaN</td>\n",
       "      <td>1200.0</td>\n",
       "      <td>100</td>\n",
       "      <td>4000.0</td>\n",
       "      <td>1.20</td>\n",
       "      <td>0.40</td>\n",
       "      <td>3.00</td>\n",
       "      <td>Dak Lak</td>\n",
       "    </tr>\n",
       "    <tr>\n",
       "      <th>1781</th>\n",
       "      <td>605</td>\n",
       "      <td>1</td>\n",
       "      <td>39</td>\n",
       "      <td>24</td>\n",
       "      <td>a4</td>\n",
       "      <td>16</td>\n",
       "      <td>100</td>\n",
       "      <td>230.0</td>\n",
       "      <td>kg</td>\n",
       "      <td>High productivity/High efficiency</td>\n",
       "      <td>...</td>\n",
       "      <td>Pepper</td>\n",
       "      <td>Coffee</td>\n",
       "      <td>NaN</td>\n",
       "      <td>400.0</td>\n",
       "      <td>100</td>\n",
       "      <td>2000.0</td>\n",
       "      <td>0.40</td>\n",
       "      <td>0.20</td>\n",
       "      <td>2.00</td>\n",
       "      <td>Dak Lak</td>\n",
       "    </tr>\n",
       "  </tbody>\n",
       "</table>\n",
       "<p>5 rows × 48 columns</p>\n",
       "</div>"
      ],
      "text/plain": [
       "      tinh_2016  quan_2016  xa_2016  ma_h0_2016 plot_code crop_season_1  \\\n",
       "1720        302         11       15          24       a18            11   \n",
       "1723        302         11       15          92        a6            11   \n",
       "1724        302         11       15          92        a5            11   \n",
       "1780        605          1       33          24        a2            11   \n",
       "1781        605          1       39          24        a4            16   \n",
       "\n",
       "      percent_area_season_1  crop_quantity_season_1 crop_unit_1  \\\n",
       "1720                    100                  2500.0          kg   \n",
       "1723                    100                   360.0          kg   \n",
       "1724                    100                   320.0          kg   \n",
       "1780                    100                  1200.0          kg   \n",
       "1781                    100                   230.0          kg   \n",
       "\n",
       "                          crop_reason_1  ...  crop_1  crop_2  crop_3  \\\n",
       "1720  High productivity/High efficiency  ...  Coffee     NaN     NaN   \n",
       "1723  High productivity/High efficiency  ...  Coffee     NaN     NaN   \n",
       "1724  High productivity/High efficiency  ...  Coffee     NaN     NaN   \n",
       "1780                   Traditional crop  ...  Coffee     NaN     NaN   \n",
       "1781  High productivity/High efficiency  ...  Pepper  Coffee     NaN   \n",
       "\n",
       "     Coffee_quantity Coffee_area_percent  Coffee_area  Coffee_quantity_tonnes  \\\n",
       "1720          2500.0                 100       2500.0                    2.50   \n",
       "1723           360.0                 100        800.0                    0.36   \n",
       "1724           320.0                 100        700.0                    0.32   \n",
       "1780          1200.0                 100       4000.0                    1.20   \n",
       "1781           400.0                 100       2000.0                    0.40   \n",
       "\n",
       "     Coffee_area_hectare  Coffee_productivity  tinh_2016_label  \n",
       "1720                0.25                10.00           Others  \n",
       "1723                0.08                 4.50           Others  \n",
       "1724                0.07                 4.57           Others  \n",
       "1780                0.40                 3.00          Dak Lak  \n",
       "1781                0.20                 2.00          Dak Lak  \n",
       "\n",
       "[5 rows x 48 columns]"
      ]
     },
     "execution_count": 3,
     "metadata": {},
     "output_type": "execute_result"
    }
   ],
   "source": [
    "#### Data Wrangling\n",
    "\"\"\"\n",
    "Cell generated by Data Wrangler.\n",
    "\"\"\"\n",
    "def clean_data(df):\n",
    "    # Rename columns\n",
    "    df = df.rename(columns={'p5ma_':'plot_code',\n",
    "                     'p15q1_':'crop_season_1',\n",
    "                     'p15q2_':'percent_area_season_1',\n",
    "                     'p15q3a_':'crop_quantity_season_1',\n",
    "                     'p15q3b_':'crop_unit_1',\n",
    "                     'p15q4_':'crop_reason_1',\n",
    "                     'p15q5_':'crop_season_2',\n",
    "                     'p15q6_':'percent_area_season_2',\n",
    "                     'p15q7a_':'crop_quantity_season_2',\n",
    "                     'p15q7b_':'crop_unit_2',\n",
    "                     'p15q8_':'crop_season_3',\n",
    "                     'p15q9_':'percent_area_season_3',\n",
    "                     'p15q10a_':'crop_quantity_season_3',\n",
    "                     'p15q10b_':'crop_unit_3',\n",
    "                     'p5q1_':'distance',\n",
    "                     'p5q3a_':'total_area',\n",
    "                     'p5q7_':'land_type',\n",
    "                     'p6q9_':'problems',\n",
    "                     'p6q10_':'plot_quality_village',\n",
    "                     'p6q10b_':'plot_quality_last_3_years',\n",
    "                     'p6q11_':'irrigation',\n",
    "                     'p6q12_':'water_source',\n",
    "                     'p7q15a_':'conservation_infrastructure_1',\n",
    "                     'p7q15b_':'conservation_infrastructure_2',\n",
    "                     'p8q1_':'manager_owned_plot',\n",
    "                     'p8q2a_':'red_book',\n",
    "                     'p8q2b_':'why_no_red_book',\n",
    "                     'p8q8_':'obtain_mortgage',\n",
    "                     'p8q9_':'could_obtain_mortgate',\n",
    "                     'p8q10_':'fallow_owned_plot',\n",
    "                     'p9q2_':'manager_rented_plot',\n",
    "                     'p9q8_':'fallow_rented_plot',\n",
    "                     'p12q1':'land_investment',\n",
    "                     'p12q2_a':'invest_type_1',\n",
    "                     'p12q2_b':'invest_type_2',\n",
    "                     'p13qa1_':'natural_disaster'})\n",
    "    #Create a new variable to identify plots that grew coffee as the main crop in \n",
    "    #at least one season in 2016 (Coffee's code = 11)\n",
    "    df['Coffee_plot'] = 0\n",
    "    df.loc[(df.crop_season_1=='11') | \n",
    "           (df.crop_season_2=='11') | \n",
    "           (df.crop_season_3=='11'), \n",
    "           'Coffee_plot'] = 1\n",
    "    # Filter rows based on column: 'Coffee_plot'\n",
    "    df = df[df['Coffee_plot'] == 1]\n",
    "    # Map crop_season_1 values to crop_name_1\n",
    "    crop_mapping = {\n",
    "        \"1\": \"Rice\",\n",
    "        \"2\": \"Maize\",\n",
    "        \"3\": \"Potato (non-sweet)\",\n",
    "        \"4\": \"Sweet potato\",\n",
    "        \"5\": \"Cassava\",\n",
    "        \"6\": \"Peanuts\",\n",
    "        \"7\": \"Soy Bean\",\n",
    "        \"8\": \"Vegetables\",\n",
    "        \"9\": \"Other annual crop\",\n",
    "        \"10\": \"Fruit\",\n",
    "        \"11\": \"Coffee\",\n",
    "        \"12\": \"Tea\",\n",
    "        \"13\": \"Cocoa\",\n",
    "        \"14\": \"Cashew nuts\",\n",
    "        \"15\": \"Sugar cane\",\n",
    "        \"16\": \"Pepper\",\n",
    "        \"17\": \"Rubber\",\n",
    "        \"18\": \"Medicinal trees/plants\",\n",
    "        \"19\": \"Other perennial crop\",\n",
    "        \"20\": \"Forestry\",\n",
    "        \"21\": \"Grazing of animals\",\n",
    "        \"22\": \"Aquaculture\",\n",
    "        \"23\": \"Left fallow\",\n",
    "        \"24\": \"Not used\"\n",
    "    }\n",
    "    df['crop_1'] = df['crop_season_1'].map(crop_mapping).astype('category')\n",
    "    df['crop_2'] = df['crop_season_2'].map(crop_mapping).astype('category')\n",
    "    df['crop_3'] = df['crop_season_3'].map(crop_mapping).astype('category')\n",
    "    # Change column type to int16 for column: 'crop_quantity_season_1'\n",
    "    df = df.astype({'crop_quantity_season_1': 'int32'})\n",
    "    # Replace all instances of \"1\" with \"kg\" in column: 'crop_unit_1'\n",
    "    df['crop_unit_1'] = df['crop_unit_1'].str.replace(\"1\", \"kg\", regex=False)\n",
    "    # Mapping dictionary for crop_reason_1 to its description\n",
    "    reason_mapping = {\n",
    "        '1': 'Obliged by commune authorities',\n",
    "        '2': 'High productivity/High efficiency',\n",
    "        '3': 'Plot does not suit for other crops',\n",
    "        '4': 'Safe/Not risky',\n",
    "       '5': 'Traditional crop',\n",
    "        '6': 'Other (specify)'\n",
    "    }\n",
    "    # Replace the values in crop_reason_1 with their descriptions\n",
    "    df['crop_reason_1'] = df['crop_reason_1'].map(reason_mapping).astype('category')\n",
    "    # Handle empty strings before type casting\n",
    "    df['percent_area_season_2'] = df['percent_area_season_2'].replace('', 0).astype('float16')\n",
    "    # Handle empty strings before type casting\n",
    "    df['crop_quantity_season_2'] = df['crop_quantity_season_2'].replace('', 0).astype('int')\n",
    "    # Replace all instances of \"1\" with \"kg\" in column: 'crop_unit_2'\n",
    "    df['crop_unit_2'] = df['crop_unit_2'].str.replace(\"1\", \"kg\", regex=False)\n",
    "    # Handle empty strings before type casting\n",
    "    df['percent_area_season_3'] = df['percent_area_season_3'].replace('', 0).astype('int')\n",
    "    # Handle empty strings before type casting\n",
    "    df['crop_quantity_season_3'] = df['crop_quantity_season_3'].replace('', 0).astype('int')\n",
    "    # Replace all instances of \"1\" with \"kg\" in column: 'crop_unit_3'\n",
    "    df['crop_unit_3'] = df['crop_unit_3'].str.replace(\"1\", \"kg\", regex=False)\n",
    "    # Create dictionary\n",
    "    soil_conditions = {\n",
    "        '1': \"GULLIES\",\n",
    "        '2': \"DRY LAND\",\n",
    "        '3': \"LOW-LYING LAND\",\n",
    "        '4': \"SEDIMENTATION\",  \n",
    "        '5': \"LANDSLIDE\",\n",
    "        '6': \"STONY SOILS/CLAY\",\n",
    "        '7': \"OTHER\",\n",
    "        '8': \"NO PROBLEM\"\n",
    "    }\n",
    "    # Replace the values in problems with their mapped descriptions\n",
    "    df['problems'] = df['problems'].map(soil_conditions).astype('category')\n",
    "    # Rename the column p6q8_ to slope\n",
    "    df.rename(columns={'p6q8_': 'slope'}, inplace=True)\n",
    "    # Mapping dictionary for slope values\n",
    "    slope_mapping = {\n",
    "        '1': 'FLAT',\n",
    "        '2': 'SLIGHT SLOPE',\n",
    "        '3': 'MODERATE SLOPE',\n",
    "        '4': 'STEEP SLOPE'\n",
    "    }\n",
    "    # Replace the values in slope column with their descriptions\n",
    "    df['slope'] = df['slope'].map(slope_mapping).astype('category')\n",
    "    performance_mapping = {\n",
    "        '1': \"LESS THAN AVERAGE\",\n",
    "        '2': \"AVERAGE\",\n",
    "        '3': \"BETTER THAN AVERAGE\"\n",
    "    }\n",
    "    # Replace the values in plot_quality_village with their mapped descriptions\n",
    "    df['plot_quality_village'] = df['plot_quality_village'].map(performance_mapping).astype('category')\n",
    "    # Mapping dictionary for plot_quality_last_3_years\n",
    "    quality_mapping = {\n",
    "        '1': \"IMPROVED A LOT\",\n",
    "        '2': \"IMPROVED A LITTLE\",\n",
    "        '3': \"NO CHANGE\",\n",
    "        '4': \"GOT SOMEWHAT WORSE\",\n",
    "        '5': \"GOT A LOT WORSE\"\n",
    "    }\n",
    "    # Replace the values in plot_quality_last_3_years with their mapped descriptions\n",
    "    df['plot_quality_last_3_years'] = df['plot_quality_last_3_years'].map(quality_mapping).astype('category')\n",
    "    # Mapping dictionary for irrigation values\n",
    "    irrigation_mapping = {\n",
    "        '1': 'Yes',\n",
    "        '2': 'No'\n",
    "    }\n",
    "    # Replace the string values in the irrigation column with their mapped descriptions\n",
    "    df['irrigation'] = df['irrigation'].map(irrigation_mapping).astype('category')\n",
    "    # Mapping dictionary for water source values\n",
    "    water_source_mapping = {\n",
    "        '1': 'CANAL',\n",
    "        '2': 'BORE WELL',\n",
    "        '3': 'DUG WELL',\n",
    "        '4': 'WATER FROM SPRING, RIVER',\n",
    "        '5': 'WATER FROM POND OR LAKE',\n",
    "        '6': 'OTHER'\n",
    "    }\n",
    "    # Replace the string values in water_source column with their mapped descriptions\n",
    "    df['water_source'] = df['water_source'].map(water_source_mapping).astype('category')\n",
    "    # Mapping dictionary for conservation_infrastructure_1\n",
    "    conservation_mapping = {\n",
    "        '1': \"NONE\",\n",
    "        '2': \"ROCK BUNDS\",\n",
    "        '3': \"SOIL BUNDS/GRASS LINES\",\n",
    "        '4': \"TERRACES\",\n",
    "        '5': \"BRICK WALL/FENCE\",\n",
    "        '6': \"OTHER\"\n",
    "    }\n",
    "    # Replace the values in conservation_infrastructure_1 column with their mapped descriptions\n",
    "    df['conservation_infrastructure_1'] = df['conservation_infrastructure_1'].map(conservation_mapping)\n",
    "    df['conservation_infrastructure_2'] = df['conservation_infrastructure_2'].map(conservation_mapping)\n",
    "    # Mapping dictionary for red_book values\n",
    "    red_book_mapping = {\n",
    "        1: 'Yes',\n",
    "        2: 'No'\n",
    "    }\n",
    "    # Replace the string values in the red_book column with their mapped descriptions\n",
    "    df['red_book'] = df['red_book'].map(red_book_mapping).astype('category')\n",
    "    # Mapping dictionary for why_no_red_book\n",
    "    why_no_red_book_mapping = {\n",
    "        '1': \"LAND IN CONFLICT\",\n",
    "        '2': \"LAND ACQUIRED THAT PREVIOUSLY DID NOT BELONG TO ANYBODY\",\n",
    "        '3': \"AGREEMENT (VERBAL) TO USE LAND, BUT DO NOT YET POSSESS RED BOOK\",\n",
    "        '4': \"RED BOOK READY BUT NOT COLLECTED FROM THE AUTHORITIES\",\n",
    "        '5': \"DO NOT KNOW WHAT RED BOOK IS\",\n",
    "        '6': \"OTHER\"\n",
    "    }\n",
    "    # Replace the values in why_no_red_book column with their mapped descriptions\n",
    "    df['why_no_red_book'] = df['why_no_red_book'].map(why_no_red_book_mapping).astype('category')\n",
    "    # Change column type to object for column: 'percent_area_season_2'\n",
    "    df = df.astype({'percent_area_season_2': 'int'})\n",
    "    # Mapping dictionary for land_type\n",
    "    land_type_mapping = {\n",
    "        1: \"ANNUAL CROPS LAND\",\n",
    "        2: \"PERENNIAL CROPS LAND\",\n",
    "        3: \"FORESTRY LAND\",\n",
    "        4: \"FISH AND SHRIMP POND\",\n",
    "        5: \"GRASS LAND/PASTURE\",\n",
    "        6: \"HOUSE WITH GARDEN\",\n",
    "        7: \"RESIDENTIAL LAND\",\n",
    "        8: \"OTHER\"\n",
    "    }\n",
    "    # Replace the values in land_type column with their mapped descriptions\n",
    "    df['land_type'] = df['land_type'].map(land_type_mapping).astype('category')\n",
    "    # Mapping dictionary for obtain_mortgage values\n",
    "    mortgage_mapping = {\n",
    "        1: 'Yes',\n",
    "        2: 'No'\n",
    "    }\n",
    "    # Replace the string values in obtain_mortgage column with their mapped descriptions\n",
    "    df['obtain_mortgage'] = df['obtain_mortgage'].map(mortgage_mapping).astype('category')\n",
    "    # Replace blank values with 'missing value' in 'could_obtain_mortgate' column\n",
    "    df['could_obtain_mortgate'] = df['could_obtain_mortgate'].replace(['', None], 'missing value')\n",
    "    df['could_obtain_mortgate'] = df['could_obtain_mortgate'].replace('missing value', None)\n",
    "    # Correct column name and map values\n",
    "    mortgage_mapping = {\n",
    "        '1': 'Yes',\n",
    "        '2': 'No'\n",
    "    }\n",
    "    # Replace the string values in the 'could_obtain_mortgate' column with their mapped descriptions\n",
    "    df['could_obtain_mortgate'] = df['could_obtain_mortgate'].map(mortgage_mapping).astype('category')\n",
    "    # Drop column: 'manager_rented_plot'\n",
    "    df = df.drop(columns=['manager_rented_plot'])\n",
    "    # Drop column: 'fallow_rented_plot'\n",
    "    df = df.drop(columns=['fallow_rented_plot'])\n",
    "    # Drop column: 'p12q1_'\n",
    "    df = df.drop(columns=['p12q1_'])\n",
    "    # Drop column: 'p12q2a_'\n",
    "    df = df.drop(columns=['p12q2a_'])\n",
    "    # Drop column: 'p12q2b_'\n",
    "    df = df.drop(columns=['p12q2b_'])\n",
    "    # Rename column 'p13aq1_' to 'natural_disaster'\n",
    "    df = df.rename(columns={'p13aq1_': 'natural_disaster'})\n",
    "    # Mapping dictionary for natural_disaster values\n",
    "    natural_disaster_mapping = {\n",
    "        '1': 'Yes',\n",
    "        '2': 'No'\n",
    "    }\n",
    "    # Replace the string values in natural_disaster column with their mapped descriptions\n",
    "    df['natural_disaster'] = df['natural_disaster'].map(natural_disaster_mapping).astype('category')\n",
    "    # Replace values 98 and 99 with NaN in the specified columns\n",
    "    columns_to_replace = ['crop_quantity_season_1', 'crop_quantity_season_2', 'crop_quantity_season_3']\n",
    "    df[columns_to_replace] = df[columns_to_replace].replace([98, 99], np.nan)\n",
    "    #Because no plot produced coffee in season 3, Coffee plots either produce coffee in season 1 or 2, 7 missing values in the coffee quantity variable is due to the plot not being harvested yet at the time of survey or there was no recording\n",
    "    df['Coffee_quantity']=np.where(df.crop_1=='Coffee',\n",
    "                                    df.crop_quantity_season_1,\n",
    "                                    np.where(df.crop_2=='Coffee',\n",
    "                                    df.crop_quantity_season_2,\n",
    "                                    0))\n",
    "    # The percentage of area each plot use to product coffee\n",
    "    df['Coffee_area_percent']=np.where(df.crop_1=='Coffee',\n",
    "                                            df.percent_area_season_1,\n",
    "                                            np.where(df.crop_2=='Coffee',\n",
    "                                            df.percent_area_season_2,\n",
    "                                            0))\n",
    "    # Turn percent area into real area\n",
    "    df['Coffee_area']=df.Coffee_area_percent/100 * df.total_area\n",
    "    # Convert coffee quantity from kg to tonnes\n",
    "    df['Coffee_quantity_tonnes']=df.Coffee_quantity/1000\n",
    "    # Convert coffee area from sqm to hectare\n",
    "    df['Coffee_area_hectare']=df.Coffee_area/10000\n",
    "    # Generate coffee productivity variable\n",
    "    df['Coffee_productivity']=(df.Coffee_quantity_tonnes/df.Coffee_area_hectare).round(2)\n",
    "    df['tinh_2016_label'] = df['tinh_2016'].map(\n",
    "    {605: 'Dak Lak', 606: 'Dak Nong', 607: 'Lam Dong'}).fillna('Others').astype('category')\n",
    "    \n",
    "    return df\n",
    "\n",
    "df_clean = clean_data(df.copy())\n",
    "df_clean.head()"
   ]
  },
  {
   "cell_type": "markdown",
   "metadata": {},
   "source": [
    "# Overal information about coffee plots"
   ]
  },
  {
   "cell_type": "code",
   "execution_count": 4,
   "metadata": {},
   "outputs": [
    {
     "data": {
      "application/vnd.plotly.v1+json": {
       "config": {
        "plotlyServerURL": "https://plot.ly"
       },
       "data": [
        {
         "domain": {
          "x": [
           0,
           1
          ],
          "y": [
           0,
           1
          ]
         },
         "hovertemplate": "Province=%{label}<br>Percentage (%)=%{value}<extra></extra>",
         "labels": [
          "Dak Lak",
          "Dak Nong",
          "Lam Dong",
          "Others"
         ],
         "legendgroup": "",
         "name": "",
         "showlegend": true,
         "textinfo": "percent+label",
         "type": "pie",
         "values": [
          38.88888888888889,
          35.04273504273504,
          23.504273504273502,
          2.564102564102564
         ]
        }
       ],
       "layout": {
        "legend": {
         "tracegroupgap": 0
        },
        "showlegend": false,
        "template": {
         "data": {
          "bar": [
           {
            "error_x": {
             "color": "#2a3f5f"
            },
            "error_y": {
             "color": "#2a3f5f"
            },
            "marker": {
             "line": {
              "color": "#E5ECF6",
              "width": 0.5
             },
             "pattern": {
              "fillmode": "overlay",
              "size": 10,
              "solidity": 0.2
             }
            },
            "type": "bar"
           }
          ],
          "barpolar": [
           {
            "marker": {
             "line": {
              "color": "#E5ECF6",
              "width": 0.5
             },
             "pattern": {
              "fillmode": "overlay",
              "size": 10,
              "solidity": 0.2
             }
            },
            "type": "barpolar"
           }
          ],
          "carpet": [
           {
            "aaxis": {
             "endlinecolor": "#2a3f5f",
             "gridcolor": "white",
             "linecolor": "white",
             "minorgridcolor": "white",
             "startlinecolor": "#2a3f5f"
            },
            "baxis": {
             "endlinecolor": "#2a3f5f",
             "gridcolor": "white",
             "linecolor": "white",
             "minorgridcolor": "white",
             "startlinecolor": "#2a3f5f"
            },
            "type": "carpet"
           }
          ],
          "choropleth": [
           {
            "colorbar": {
             "outlinewidth": 0,
             "ticks": ""
            },
            "type": "choropleth"
           }
          ],
          "contour": [
           {
            "colorbar": {
             "outlinewidth": 0,
             "ticks": ""
            },
            "colorscale": [
             [
              0,
              "#0d0887"
             ],
             [
              0.1111111111111111,
              "#46039f"
             ],
             [
              0.2222222222222222,
              "#7201a8"
             ],
             [
              0.3333333333333333,
              "#9c179e"
             ],
             [
              0.4444444444444444,
              "#bd3786"
             ],
             [
              0.5555555555555556,
              "#d8576b"
             ],
             [
              0.6666666666666666,
              "#ed7953"
             ],
             [
              0.7777777777777778,
              "#fb9f3a"
             ],
             [
              0.8888888888888888,
              "#fdca26"
             ],
             [
              1,
              "#f0f921"
             ]
            ],
            "type": "contour"
           }
          ],
          "contourcarpet": [
           {
            "colorbar": {
             "outlinewidth": 0,
             "ticks": ""
            },
            "type": "contourcarpet"
           }
          ],
          "heatmap": [
           {
            "colorbar": {
             "outlinewidth": 0,
             "ticks": ""
            },
            "colorscale": [
             [
              0,
              "#0d0887"
             ],
             [
              0.1111111111111111,
              "#46039f"
             ],
             [
              0.2222222222222222,
              "#7201a8"
             ],
             [
              0.3333333333333333,
              "#9c179e"
             ],
             [
              0.4444444444444444,
              "#bd3786"
             ],
             [
              0.5555555555555556,
              "#d8576b"
             ],
             [
              0.6666666666666666,
              "#ed7953"
             ],
             [
              0.7777777777777778,
              "#fb9f3a"
             ],
             [
              0.8888888888888888,
              "#fdca26"
             ],
             [
              1,
              "#f0f921"
             ]
            ],
            "type": "heatmap"
           }
          ],
          "heatmapgl": [
           {
            "colorbar": {
             "outlinewidth": 0,
             "ticks": ""
            },
            "colorscale": [
             [
              0,
              "#0d0887"
             ],
             [
              0.1111111111111111,
              "#46039f"
             ],
             [
              0.2222222222222222,
              "#7201a8"
             ],
             [
              0.3333333333333333,
              "#9c179e"
             ],
             [
              0.4444444444444444,
              "#bd3786"
             ],
             [
              0.5555555555555556,
              "#d8576b"
             ],
             [
              0.6666666666666666,
              "#ed7953"
             ],
             [
              0.7777777777777778,
              "#fb9f3a"
             ],
             [
              0.8888888888888888,
              "#fdca26"
             ],
             [
              1,
              "#f0f921"
             ]
            ],
            "type": "heatmapgl"
           }
          ],
          "histogram": [
           {
            "marker": {
             "pattern": {
              "fillmode": "overlay",
              "size": 10,
              "solidity": 0.2
             }
            },
            "type": "histogram"
           }
          ],
          "histogram2d": [
           {
            "colorbar": {
             "outlinewidth": 0,
             "ticks": ""
            },
            "colorscale": [
             [
              0,
              "#0d0887"
             ],
             [
              0.1111111111111111,
              "#46039f"
             ],
             [
              0.2222222222222222,
              "#7201a8"
             ],
             [
              0.3333333333333333,
              "#9c179e"
             ],
             [
              0.4444444444444444,
              "#bd3786"
             ],
             [
              0.5555555555555556,
              "#d8576b"
             ],
             [
              0.6666666666666666,
              "#ed7953"
             ],
             [
              0.7777777777777778,
              "#fb9f3a"
             ],
             [
              0.8888888888888888,
              "#fdca26"
             ],
             [
              1,
              "#f0f921"
             ]
            ],
            "type": "histogram2d"
           }
          ],
          "histogram2dcontour": [
           {
            "colorbar": {
             "outlinewidth": 0,
             "ticks": ""
            },
            "colorscale": [
             [
              0,
              "#0d0887"
             ],
             [
              0.1111111111111111,
              "#46039f"
             ],
             [
              0.2222222222222222,
              "#7201a8"
             ],
             [
              0.3333333333333333,
              "#9c179e"
             ],
             [
              0.4444444444444444,
              "#bd3786"
             ],
             [
              0.5555555555555556,
              "#d8576b"
             ],
             [
              0.6666666666666666,
              "#ed7953"
             ],
             [
              0.7777777777777778,
              "#fb9f3a"
             ],
             [
              0.8888888888888888,
              "#fdca26"
             ],
             [
              1,
              "#f0f921"
             ]
            ],
            "type": "histogram2dcontour"
           }
          ],
          "mesh3d": [
           {
            "colorbar": {
             "outlinewidth": 0,
             "ticks": ""
            },
            "type": "mesh3d"
           }
          ],
          "parcoords": [
           {
            "line": {
             "colorbar": {
              "outlinewidth": 0,
              "ticks": ""
             }
            },
            "type": "parcoords"
           }
          ],
          "pie": [
           {
            "automargin": true,
            "type": "pie"
           }
          ],
          "scatter": [
           {
            "fillpattern": {
             "fillmode": "overlay",
             "size": 10,
             "solidity": 0.2
            },
            "type": "scatter"
           }
          ],
          "scatter3d": [
           {
            "line": {
             "colorbar": {
              "outlinewidth": 0,
              "ticks": ""
             }
            },
            "marker": {
             "colorbar": {
              "outlinewidth": 0,
              "ticks": ""
             }
            },
            "type": "scatter3d"
           }
          ],
          "scattercarpet": [
           {
            "marker": {
             "colorbar": {
              "outlinewidth": 0,
              "ticks": ""
             }
            },
            "type": "scattercarpet"
           }
          ],
          "scattergeo": [
           {
            "marker": {
             "colorbar": {
              "outlinewidth": 0,
              "ticks": ""
             }
            },
            "type": "scattergeo"
           }
          ],
          "scattergl": [
           {
            "marker": {
             "colorbar": {
              "outlinewidth": 0,
              "ticks": ""
             }
            },
            "type": "scattergl"
           }
          ],
          "scattermapbox": [
           {
            "marker": {
             "colorbar": {
              "outlinewidth": 0,
              "ticks": ""
             }
            },
            "type": "scattermapbox"
           }
          ],
          "scatterpolar": [
           {
            "marker": {
             "colorbar": {
              "outlinewidth": 0,
              "ticks": ""
             }
            },
            "type": "scatterpolar"
           }
          ],
          "scatterpolargl": [
           {
            "marker": {
             "colorbar": {
              "outlinewidth": 0,
              "ticks": ""
             }
            },
            "type": "scatterpolargl"
           }
          ],
          "scatterternary": [
           {
            "marker": {
             "colorbar": {
              "outlinewidth": 0,
              "ticks": ""
             }
            },
            "type": "scatterternary"
           }
          ],
          "surface": [
           {
            "colorbar": {
             "outlinewidth": 0,
             "ticks": ""
            },
            "colorscale": [
             [
              0,
              "#0d0887"
             ],
             [
              0.1111111111111111,
              "#46039f"
             ],
             [
              0.2222222222222222,
              "#7201a8"
             ],
             [
              0.3333333333333333,
              "#9c179e"
             ],
             [
              0.4444444444444444,
              "#bd3786"
             ],
             [
              0.5555555555555556,
              "#d8576b"
             ],
             [
              0.6666666666666666,
              "#ed7953"
             ],
             [
              0.7777777777777778,
              "#fb9f3a"
             ],
             [
              0.8888888888888888,
              "#fdca26"
             ],
             [
              1,
              "#f0f921"
             ]
            ],
            "type": "surface"
           }
          ],
          "table": [
           {
            "cells": {
             "fill": {
              "color": "#EBF0F8"
             },
             "line": {
              "color": "white"
             }
            },
            "header": {
             "fill": {
              "color": "#C8D4E3"
             },
             "line": {
              "color": "white"
             }
            },
            "type": "table"
           }
          ]
         },
         "layout": {
          "annotationdefaults": {
           "arrowcolor": "#2a3f5f",
           "arrowhead": 0,
           "arrowwidth": 1
          },
          "autotypenumbers": "strict",
          "coloraxis": {
           "colorbar": {
            "outlinewidth": 0,
            "ticks": ""
           }
          },
          "colorscale": {
           "diverging": [
            [
             0,
             "#8e0152"
            ],
            [
             0.1,
             "#c51b7d"
            ],
            [
             0.2,
             "#de77ae"
            ],
            [
             0.3,
             "#f1b6da"
            ],
            [
             0.4,
             "#fde0ef"
            ],
            [
             0.5,
             "#f7f7f7"
            ],
            [
             0.6,
             "#e6f5d0"
            ],
            [
             0.7,
             "#b8e186"
            ],
            [
             0.8,
             "#7fbc41"
            ],
            [
             0.9,
             "#4d9221"
            ],
            [
             1,
             "#276419"
            ]
           ],
           "sequential": [
            [
             0,
             "#0d0887"
            ],
            [
             0.1111111111111111,
             "#46039f"
            ],
            [
             0.2222222222222222,
             "#7201a8"
            ],
            [
             0.3333333333333333,
             "#9c179e"
            ],
            [
             0.4444444444444444,
             "#bd3786"
            ],
            [
             0.5555555555555556,
             "#d8576b"
            ],
            [
             0.6666666666666666,
             "#ed7953"
            ],
            [
             0.7777777777777778,
             "#fb9f3a"
            ],
            [
             0.8888888888888888,
             "#fdca26"
            ],
            [
             1,
             "#f0f921"
            ]
           ],
           "sequentialminus": [
            [
             0,
             "#0d0887"
            ],
            [
             0.1111111111111111,
             "#46039f"
            ],
            [
             0.2222222222222222,
             "#7201a8"
            ],
            [
             0.3333333333333333,
             "#9c179e"
            ],
            [
             0.4444444444444444,
             "#bd3786"
            ],
            [
             0.5555555555555556,
             "#d8576b"
            ],
            [
             0.6666666666666666,
             "#ed7953"
            ],
            [
             0.7777777777777778,
             "#fb9f3a"
            ],
            [
             0.8888888888888888,
             "#fdca26"
            ],
            [
             1,
             "#f0f921"
            ]
           ]
          },
          "colorway": [
           "#636efa",
           "#EF553B",
           "#00cc96",
           "#ab63fa",
           "#FFA15A",
           "#19d3f3",
           "#FF6692",
           "#B6E880",
           "#FF97FF",
           "#FECB52"
          ],
          "font": {
           "color": "#2a3f5f"
          },
          "geo": {
           "bgcolor": "white",
           "lakecolor": "white",
           "landcolor": "#E5ECF6",
           "showlakes": true,
           "showland": true,
           "subunitcolor": "white"
          },
          "hoverlabel": {
           "align": "left"
          },
          "hovermode": "closest",
          "mapbox": {
           "style": "light"
          },
          "paper_bgcolor": "white",
          "plot_bgcolor": "#E5ECF6",
          "polar": {
           "angularaxis": {
            "gridcolor": "white",
            "linecolor": "white",
            "ticks": ""
           },
           "bgcolor": "#E5ECF6",
           "radialaxis": {
            "gridcolor": "white",
            "linecolor": "white",
            "ticks": ""
           }
          },
          "scene": {
           "xaxis": {
            "backgroundcolor": "#E5ECF6",
            "gridcolor": "white",
            "gridwidth": 2,
            "linecolor": "white",
            "showbackground": true,
            "ticks": "",
            "zerolinecolor": "white"
           },
           "yaxis": {
            "backgroundcolor": "#E5ECF6",
            "gridcolor": "white",
            "gridwidth": 2,
            "linecolor": "white",
            "showbackground": true,
            "ticks": "",
            "zerolinecolor": "white"
           },
           "zaxis": {
            "backgroundcolor": "#E5ECF6",
            "gridcolor": "white",
            "gridwidth": 2,
            "linecolor": "white",
            "showbackground": true,
            "ticks": "",
            "zerolinecolor": "white"
           }
          },
          "shapedefaults": {
           "line": {
            "color": "#2a3f5f"
           }
          },
          "ternary": {
           "aaxis": {
            "gridcolor": "white",
            "linecolor": "white",
            "ticks": ""
           },
           "baxis": {
            "gridcolor": "white",
            "linecolor": "white",
            "ticks": ""
           },
           "bgcolor": "#E5ECF6",
           "caxis": {
            "gridcolor": "white",
            "linecolor": "white",
            "ticks": ""
           }
          },
          "title": {
           "x": 0.05
          },
          "xaxis": {
           "automargin": true,
           "gridcolor": "white",
           "linecolor": "white",
           "ticks": "",
           "title": {
            "standoff": 15
           },
           "zerolinecolor": "white",
           "zerolinewidth": 2
          },
          "yaxis": {
           "automargin": true,
           "gridcolor": "white",
           "linecolor": "white",
           "ticks": "",
           "title": {
            "standoff": 15
           },
           "zerolinecolor": "white",
           "zerolinewidth": 2
          }
         }
        },
        "title": {
         "text": "Coffee Plots Distribution by Province",
         "x": 0.5
        }
       }
      }
     },
     "metadata": {},
     "output_type": "display_data"
    }
   ],
   "source": [
    "import plotly.express as px\n",
    "import pandas as pd\n",
    "\n",
    "\n",
    "# Calculate the percentage of plots for each label\n",
    "data = df_clean['tinh_2016_label'].value_counts(normalize=True).reset_index()\n",
    "data.columns = ['Province', 'Percentage']\n",
    "\n",
    "# Convert the proportions to percentages\n",
    "data['Percentage'] = data['Percentage'] * 100\n",
    "\n",
    "# Create the pie chart\n",
    "fig = px.pie(data_frame=data, \n",
    "             values='Percentage', \n",
    "             names='Province', \n",
    "             title='Coffee Plots Distribution by Province',\n",
    "             labels={'Percentage': 'Percentage (%)'})\n",
    "\n",
    "fig.update_traces(textinfo='percent+label')  # Show percentage and label in each pie sector\n",
    "fig.update_layout(showlegend=False, title={'x': 0.5})  # Remove the legend and center the title\n",
    "\n",
    "fig.show()\n"
   ]
  },
  {
   "cell_type": "code",
   "execution_count": 5,
   "metadata": {},
   "outputs": [
    {
     "data": {
      "image/png": "[encoded data removed]",
      "text/plain": [
       "<Figure size 1000x600 with 1 Axes>"
      ]
     },
     "metadata": {},
     "output_type": "display_data"
    }
   ],
   "source": [
    "import pandas as pd\n",
    "import matplotlib.pyplot as plt\n",
    "# Melt the dataframe to long format\n",
    "df_long = df_clean[['crop_1','crop_2','crop_3']].melt(value_name='crop', var_name='season')\n",
    "# Replace season names\n",
    "season_mapping = {'crop_1': 'Season 1', 'crop_2': 'Season 2', 'crop_3': 'Season 3'}\n",
    "df_long['season'] = df_long['season'].replace(season_mapping)\n",
    "# Count occurrences of each crop per season\n",
    "counts = df_long.groupby(['season', 'crop']).size().reset_index(name='count')\n",
    "# Plot the data\n",
    "plt.figure(figsize=(10, 6))\n",
    "sns.barplot(data=counts, x='season', y='count', hue='crop')\n",
    "plt.title('Crop types grown in coffee plots in each season')\n",
    "plt.xlabel('Season')\n",
    "plt.ylabel('Count')\n",
    "plt.legend(title='Crop Types')\n",
    "plt.tight_layout()\n",
    "plt.show()"
   ]
  },
  {
   "cell_type": "markdown",
   "metadata": {},
   "source": [
    "#### All coffee plots only grow coffee for one season of the year (either season 1 or 2). Besides coffee, other crops that are often grown in coffee plots are pepper, rubber, and fruits => low level of diversification, crop rotation or intercropping. Farmers and households operating these plots are highly dependent on the fluctuation of coffee productivity and prices"
   ]
  },
  {
   "cell_type": "code",
   "execution_count": 6,
   "metadata": {},
   "outputs": [
    {
     "data": {
      "text/plain": [
       "<Axes: xlabel='Coffee_area_percent', ylabel='Count'>"
      ]
     },
     "execution_count": 6,
     "metadata": {},
     "output_type": "execute_result"
    },
    {
     "data": {
      "image/png": "[encoded data removed]",
      "text/plain": [
       "<Figure size 640x480 with 1 Axes>"
      ]
     },
     "metadata": {},
     "output_type": "display_data"
    }
   ],
   "source": [
    "sns.histplot(df_clean,\n",
    "             x='Coffee_area_percent', \n",
    "             bins=30, \n",
    "             kde=True, \n",
    "             color=\"orange\", \n",
    "             edgecolor=\"black\")"
   ]
  },
  {
   "cell_type": "markdown",
   "metadata": {},
   "source": [
    "#### Most coffee plots (66%) use all of their areas for growing coffee "
   ]
  },
  {
   "cell_type": "code",
   "execution_count": 7,
   "metadata": {},
   "outputs": [
    {
     "data": {
      "text/plain": [
       "<Axes: xlabel='Coffee_area', ylabel='Count'>"
      ]
     },
     "execution_count": 7,
     "metadata": {},
     "output_type": "execute_result"
    },
    {
     "data": {
      "image/png": "[encoded data removed]",
      "text/plain": [
       "<Figure size 640x480 with 1 Axes>"
      ]
     },
     "metadata": {},
     "output_type": "display_data"
    }
   ],
   "source": [
    "sns.histplot(df_clean,\n",
    "             x='Coffee_area', \n",
    "             bins=30, \n",
    "             kde=True, \n",
    "             color=\"orange\", \n",
    "             edgecolor=\"black\") "
   ]
  },
  {
   "cell_type": "code",
   "execution_count": 8,
   "metadata": {},
   "outputs": [
    {
     "data": {
      "text/plain": [
       "<Axes: xlabel='Coffee_productivity', ylabel='Count'>"
      ]
     },
     "execution_count": 8,
     "metadata": {},
     "output_type": "execute_result"
    },
    {
     "data": {
      "image/png": "[encoded data removed]",
      "text/plain": [
       "<Figure size 640x480 with 1 Axes>"
      ]
     },
     "metadata": {},
     "output_type": "display_data"
    }
   ],
   "source": [
    "sns.histplot(df_clean,\n",
    "             x='Coffee_productivity', \n",
    "             bins=30, \n",
    "             kde=True, \n",
    "             color=\"orange\", \n",
    "             edgecolor=\"black\")"
   ]
  },
  {
   "cell_type": "code",
   "execution_count": 9,
   "metadata": {},
   "outputs": [
    {
     "data": {
      "image/png": "[encoded data removed]",
      "text/plain": [
       "<Figure size 500x500 with 1 Axes>"
      ]
     },
     "metadata": {},
     "output_type": "display_data"
    }
   ],
   "source": [
    "import seaborn as sns\n",
    "import matplotlib.pyplot as plt\n",
    "\n",
    "# Assuming df_clean is your DataFrame\n",
    "sns.lmplot(x='Coffee_area_hectare', y='Coffee_productivity', data=df_clean, ci=None)\n",
    "plt.title('Relationship between Coffee Productivity and Coffee Area (in Hectares)')\n",
    "plt.xlabel('Coffee Area (Hectares)')\n",
    "plt.ylabel('Coffee Productivity')\n",
    "plt.grid(True)\n",
    "plt.show()"
   ]
  },
  {
   "cell_type": "code",
   "execution_count": 10,
   "metadata": {},
   "outputs": [
    {
     "data": {
      "image/png": "[encoded data removed]",
      "text/plain": [
       "<Figure size 500x500 with 1 Axes>"
      ]
     },
     "metadata": {},
     "output_type": "display_data"
    }
   ],
   "source": [
    "import seaborn as sns\n",
    "import matplotlib.pyplot as plt\n",
    "\n",
    "data=df_clean[df_clean.Coffee_productivity<5]\n",
    "# Assuming df_clean is your DataFrame\n",
    "sns.lmplot(x='Coffee_area_hectare', y='Coffee_productivity', data=data, ci=None)\n",
    "plt.title('Relationship between Coffee Productivity and Coffee Area (in Hectares)')\n",
    "plt.xlabel('Coffee Area (Hectares)')\n",
    "plt.ylabel('Coffee Productivity')\n",
    "plt.grid(True)\n",
    "plt.show()\n"
   ]
  },
  {
   "cell_type": "markdown",
   "metadata": {},
   "source": [
    "### Coffee productivity has a high degree of outliers and a negative relationship with coffee area. However, the relationship disappear when we remove the outliers. We also observe that productivity outliers often come from small plots. High degree of outliers focusing in small plots may suggest that these plot owners/operators do not record their data properly"
   ]
  },
  {
   "cell_type": "code",
   "execution_count": 11,
   "metadata": {},
   "outputs": [
    {
     "name": "stderr",
     "output_type": "stream",
     "text": [
      "C:\\Users\\USER\\AppData\\Local\\Temp\\ipykernel_5660\\2330202554.py:5: FutureWarning:\n",
      "\n",
      "The default of observed=False is deprecated and will be changed to True in a future version of pandas. Pass observed=False to retain current behavior or observed=True to adopt the future default and silence this warning.\n",
      "\n"
     ]
    },
    {
     "data": {
      "image/png": "[encoded data removed]",
      "text/plain": [
       "<Figure size 1200x600 with 1 Axes>"
      ]
     },
     "metadata": {},
     "output_type": "display_data"
    }
   ],
   "source": [
    "import pandas as pd\n",
    "import matplotlib.pyplot as plt\n",
    "\n",
    "# Aggregate the data by provinces and reasons\n",
    "reason_counts = df_clean.groupby(['tinh_2016_label', 'crop_reason_1']).size().unstack()\n",
    "\n",
    "# Plot the data as a bar chart\n",
    "reason_counts.plot(kind='bar', stacked=True, figsize=(12, 6))\n",
    "\n",
    "plt.title('Reasons for Growing Coffee by Provinces')\n",
    "plt.xlabel('Provinces')\n",
    "plt.ylabel('Number of Plots')\n",
    "plt.legend(title='Crop Reasons', loc='upper right')\n",
    "plt.xticks(rotation=45)\n",
    "plt.grid(axis='y', linestyle='--', alpha=0.7)\n",
    "plt.tight_layout()\n",
    "plt.show()\n"
   ]
  },
  {
   "cell_type": "markdown",
   "metadata": {},
   "source": [
    "#### Two popular reasons for growing coffee: Traditional crop & High productivity/efficiency. For Dak Nong, Lam Dong, and other provinces, high productivity is the major reason. But for Dak Lak, trational crop is the major reason for growing coffee"
   ]
  },
  {
   "cell_type": "code",
   "execution_count": 12,
   "metadata": {},
   "outputs": [
    {
     "name": "stderr",
     "output_type": "stream",
     "text": [
      "C:\\Users\\USER\\AppData\\Local\\Temp\\ipykernel_5660\\71095332.py:2: FutureWarning:\n",
      "\n",
      "The default of observed=False is deprecated and will be changed to True in a future version of pandas. Pass observed=False to retain current behavior or observed=True to adopt the future default and silence this warning.\n",
      "\n"
     ]
    },
    {
     "data": {
      "image/png": "[encoded data removed]",
      "text/plain": [
       "<Figure size 1200x600 with 1 Axes>"
      ]
     },
     "metadata": {},
     "output_type": "display_data"
    }
   ],
   "source": [
    "# Aggregate the data by provinces and reasons\n",
    "problem_counts = df_clean.groupby(['tinh_2016_label', 'problems']).size().unstack()\n",
    "\n",
    "# Plot the data as a bar chart\n",
    "problem_counts.plot(kind='bar', stacked=True, figsize=(12, 6))\n",
    "\n",
    "plt.title('Problems of Coffee plots by Provinces')\n",
    "plt.xlabel('Provinces')\n",
    "plt.ylabel('Number of Plots')\n",
    "plt.legend(title='Problems', loc='upper right')\n",
    "plt.xticks(rotation=45)\n",
    "plt.grid(axis='y', linestyle='--', alpha=0.7)\n",
    "plt.tight_layout()\n",
    "plt.show()"
   ]
  },
  {
   "cell_type": "markdown",
   "metadata": {},
   "source": [
    "### Dry land is the main problem for coffee farming in Vietnam. The problem was concentrated in Dak Lak and Dak Nong. Besides dry land, Dak Lak also had other problems "
   ]
  },
  {
   "cell_type": "code",
   "execution_count": 13,
   "metadata": {},
   "outputs": [
    {
     "name": "stderr",
     "output_type": "stream",
     "text": [
      "C:\\Users\\USER\\AppData\\Local\\Temp\\ipykernel_5660\\2259998308.py:2: FutureWarning:\n",
      "\n",
      "The default of observed=False is deprecated and will be changed to True in a future version of pandas. Pass observed=False to retain current behavior or observed=True to adopt the future default and silence this warning.\n",
      "\n"
     ]
    },
    {
     "data": {
      "image/png": "[encoded data removed]",
      "text/plain": [
       "<Figure size 1200x600 with 1 Axes>"
      ]
     },
     "metadata": {},
     "output_type": "display_data"
    }
   ],
   "source": [
    "# Aggregate the data by provinces and reasons\n",
    "landtype_counts = df_clean.groupby(['tinh_2016_label', 'land_type']).size().unstack()\n",
    "\n",
    "# Plot the data as a bar chart\n",
    "landtype_counts.plot(kind='bar', stacked=True, figsize=(12, 6))\n",
    "\n",
    "plt.title('Land type by Provinces')\n",
    "plt.xlabel('Provinces')\n",
    "plt.ylabel('Number of Plots')\n",
    "plt.legend(title='Land type', loc='upper right')\n",
    "plt.xticks(rotation=45)\n",
    "plt.grid(axis='y', linestyle='--', alpha=0.7)\n",
    "plt.tight_layout()\n",
    "plt.show()"
   ]
  },
  {
   "cell_type": "markdown",
   "metadata": {},
   "source": [
    "# Sustainable agricultural practices"
   ]
  },
  {
   "cell_type": "markdown",
   "metadata": {},
   "source": [
    "## Soil and water conservation structures"
   ]
  },
  {
   "cell_type": "code",
   "execution_count": 14,
   "metadata": {},
   "outputs": [
    {
     "data": {
      "text/plain": [
       "conservation_infrastructure_1\n",
       "NONE                      417\n",
       "OTHER                      20\n",
       "BRICK WALL/FENCE           17\n",
       "ROCK BUNDS                  9\n",
       "SOIL BUNDS/GRASS LINES      4\n",
       "Name: count, dtype: int64"
      ]
     },
     "execution_count": 14,
     "metadata": {},
     "output_type": "execute_result"
    }
   ],
   "source": [
    "df_clean.conservation_infrastructure_1.value_counts()"
   ]
  },
  {
   "cell_type": "code",
   "execution_count": 15,
   "metadata": {},
   "outputs": [
    {
     "data": {
      "text/plain": [
       "SWC_dummy\n",
       "False    417\n",
       "True      51\n",
       "Name: count, dtype: int64"
      ]
     },
     "execution_count": 15,
     "metadata": {},
     "output_type": "execute_result"
    }
   ],
   "source": [
    "df_clean['SWC_dummy']=~df_clean.conservation_infrastructure_1.isin(['NONE'])\n",
    "df_clean['SWC_dummy'].value_counts()  "
   ]
  },
  {
   "cell_type": "markdown",
   "metadata": {},
   "source": [
    "## Intercropping"
   ]
  },
  {
   "cell_type": "markdown",
   "metadata": {},
   "source": [
    "#### Define intercropping: coffee plots that also grown other crops"
   ]
  },
  {
   "cell_type": "code",
   "execution_count": 16,
   "metadata": {},
   "outputs": [
    {
     "data": {
      "text/plain": [
       "intercropping_dummy\n",
       "False    431\n",
       "True      37\n",
       "Name: count, dtype: int64"
      ]
     },
     "execution_count": 16,
     "metadata": {},
     "output_type": "execute_result"
    }
   ],
   "source": [
    "df_clean['intercropping_dummy']=np.where((~df_clean.crop_1.isin(['Coffee','Left fallow','Not used',np.nan])) |\n",
    "                                 (~df_clean.crop_2.isin(['Coffee','Left fallow','Not used',np.nan])) |\n",
    "                                 (~df_clean.crop_3.isin(['Coffee','Left fallow','Not used',np.nan])), \n",
    "                                  True, False)\n",
    "df_clean.intercropping_dummy.value_counts()"
   ]
  },
  {
   "cell_type": "markdown",
   "metadata": {},
   "source": [
    "## Organic fertilizer"
   ]
  },
  {
   "cell_type": "code",
   "execution_count": 17,
   "metadata": {},
   "outputs": [
    {
     "data": {
      "text/plain": [
       "organic_fertilizer_dummy\n",
       "True     293\n",
       "False    175\n",
       "Name: count, dtype: int64"
      ]
     },
     "execution_count": 17,
     "metadata": {},
     "output_type": "execute_result"
    }
   ],
   "source": [
    "df_clean['organic_fertilizer_dummy'] = (df_clean['organic_fertilizer'] > 0)\n",
    "df_clean.organic_fertilizer_dummy.value_counts()\n"
   ]
  },
  {
   "cell_type": "markdown",
   "metadata": {},
   "source": [
    "## Leaving the land fallow"
   ]
  },
  {
   "cell_type": "code",
   "execution_count": 18,
   "metadata": {},
   "outputs": [
    {
     "data": {
      "text/plain": [
       "fallow_dummy\n",
       "False    460\n",
       "True       8\n",
       "Name: count, dtype: int64"
      ]
     },
     "execution_count": 18,
     "metadata": {},
     "output_type": "execute_result"
    }
   ],
   "source": [
    "df_clean['fallow_dummy'] = (df_clean['fallow_owned_plot'] > 0)\n",
    "df_clean.fallow_dummy.value_counts()"
   ]
  },
  {
   "cell_type": "markdown",
   "metadata": {},
   "source": [
    "## SAPs adoption rates"
   ]
  },
  {
   "cell_type": "code",
   "execution_count": 19,
   "metadata": {},
   "outputs": [
    {
     "data": {
      "text/plain": [
       "SAPs_dummy\n",
       "True     326\n",
       "False    142\n",
       "Name: count, dtype: int64"
      ]
     },
     "execution_count": 19,
     "metadata": {},
     "output_type": "execute_result"
    }
   ],
   "source": [
    "# Generate SAPs_dummy column based on the specified conditions\n",
    "df_clean['SAPs_dummy'] = df_clean[['SWC_dummy', 'intercropping_dummy', 'organic_fertilizer_dummy', 'fallow_dummy']].any(axis=1)\n",
    "df_clean['SAPs_dummy'].value_counts()"
   ]
  },
  {
   "cell_type": "markdown",
   "metadata": {},
   "source": [
    "## How SAPs adoption correlated with other factors"
   ]
  },
  {
   "cell_type": "markdown",
   "metadata": {},
   "source": [
    "### By provinces"
   ]
  },
  {
   "cell_type": "code",
   "execution_count": 20,
   "metadata": {},
   "outputs": [
    {
     "name": "stderr",
     "output_type": "stream",
     "text": [
      "C:\\Users\\USER\\AppData\\Local\\Temp\\ipykernel_5660\\184413398.py:2: FutureWarning:\n",
      "\n",
      "The default of observed=False is deprecated and will be changed to True in a future version of pandas. Pass observed=False to retain current behavior or observed=True to adopt the future default and silence this warning.\n",
      "\n"
     ]
    },
    {
     "data": {
      "image/png": "[encoded data removed]",
      "text/plain": [
       "<Figure size 1000x600 with 1 Axes>"
      ]
     },
     "metadata": {},
     "output_type": "display_data"
    }
   ],
   "source": [
    "# Group data by 'tinh_2016' and sum up values for each column\n",
    "province_distribution = df_clean.groupby('tinh_2016_label')[['SWC_dummy', 'intercropping_dummy', 'organic_fertilizer_dummy', 'fallow_dummy']].sum()\n",
    "\n",
    "# Define custom colors for the columns\n",
    "colors = ['#4caf50', '#ff9800', '#2196f3', '#f44336']  # Green, Orange, Blue, Red\n",
    "\n",
    "# Plot a stacked bar chart with custom colors\n",
    "ax = province_distribution.plot(kind='bar', stacked=True, figsize=(10, 6), color=colors)\n",
    "\n",
    "# Add labels and title\n",
    "plt.title('Distribution of SAPs by Provinces', fontsize=16)\n",
    "plt.xlabel('Provinces (tinh_2016)', fontsize=12)\n",
    "plt.ylabel('Count', fontsize=12)\n",
    "plt.legend(title='SAPs', labels=['SWC_dummy', 'intercropping_dummy', 'organic_fertilizer_dummy', 'fallow_dummy'])\n",
    "plt.xticks(rotation=45)\n",
    "plt.tight_layout()\n",
    "\n",
    "# Show the plot\n",
    "plt.show()"
   ]
  },
  {
   "cell_type": "markdown",
   "metadata": {},
   "source": [
    "### Overall, Dak Lak has the highest number of plots applying SAPs. Majority of plots applied organic fertilizer, focused in Dak Lak and Dak Nong. Lam Dong has more plots with soil and water conservation infrastructures compared with the other two provinces, it could happen because this province is more developed than others in the Central Highland. More plots in Lam Dong and Dak Lak grew coffee with other crops than in Dak Nong and other provinces"
   ]
  },
  {
   "cell_type": "code",
   "execution_count": 21,
   "metadata": {},
   "outputs": [
    {
     "name": "stderr",
     "output_type": "stream",
     "text": [
      "C:\\Users\\USER\\AppData\\Local\\Temp\\ipykernel_5660\\2949575426.py:5: FutureWarning:\n",
      "\n",
      "The default of observed=False is deprecated and will be changed to True in a future version of pandas. Pass observed=False to retain current behavior or observed=True to adopt the future default and silence this warning.\n",
      "\n"
     ]
    },
    {
     "data": {
      "image/png": "[encoded data removed]",
      "text/plain": [
       "<Figure size 1200x600 with 1 Axes>"
      ]
     },
     "metadata": {},
     "output_type": "display_data"
    }
   ],
   "source": [
    "import pandas as pd\n",
    "import matplotlib.pyplot as plt\n",
    "\n",
    "# Count the distribution of plot_quality for each province\n",
    "plot_quality_distribution = df_clean.groupby(['tinh_2016_label', 'plot_quality_last_3_years']).size().unstack()\n",
    "\n",
    "# Define custom colors for the four values of plot quality\n",
    "colors = ['#1f77b4', '#ff7f0e', '#2ca02c', '#d62728']  # Blue, Orange, Green, Red\n",
    "\n",
    "# Plot the stacked bar chart with custom colors\n",
    "plot_quality_distribution.plot(kind='bar', stacked=True, figsize=(12, 6), color=colors)\n",
    "\n",
    "# Add labels and title\n",
    "plt.title('Distribution of Plot Quality by Provinces', fontsize=16)\n",
    "plt.xlabel('Provinces (tinh_2016)', fontsize=12)\n",
    "plt.ylabel('Count', fontsize=12)\n",
    "plt.legend(title='Plot Quality', labels=plot_quality_distribution.columns)\n",
    "plt.xticks(rotation=45)\n",
    "plt.tight_layout()\n",
    "\n",
    "# Show the plot\n",
    "plt.show()\n"
   ]
  },
  {
   "cell_type": "code",
   "execution_count": 22,
   "metadata": {},
   "outputs": [
    {
     "name": "stderr",
     "output_type": "stream",
     "text": [
      "C:\\Users\\USER\\AppData\\Local\\Temp\\ipykernel_5660\\3448403181.py:5: FutureWarning:\n",
      "\n",
      "The default of observed=False is deprecated and will be changed to True in a future version of pandas. Pass observed=False to retain current behavior or observed=True to adopt the future default and silence this warning.\n",
      "\n"
     ]
    },
    {
     "data": {
      "image/png": "[encoded data removed]",
      "text/plain": [
       "<Figure size 1200x600 with 1 Axes>"
      ]
     },
     "metadata": {},
     "output_type": "display_data"
    }
   ],
   "source": [
    "import pandas as pd\n",
    "import matplotlib.pyplot as plt\n",
    "\n",
    "# Count the distribution of plot_quality for each province\n",
    "plot_quality_distribution = df_clean.groupby(['tinh_2016_label', 'plot_quality_village']).size().unstack()\n",
    "\n",
    "# Define custom colors for the four values of plot quality\n",
    "colors = ['#1f77b4', '#ff7f0e', '#2ca02c']  # Blue, Orange, Green\n",
    "\n",
    "# Plot the stacked bar chart with custom colors\n",
    "plot_quality_distribution.plot(kind='bar', stacked=True, figsize=(12, 6), color=colors)\n",
    "\n",
    "# Add labels and title\n",
    "plt.title('Distribution of Plot Quality by Provinces', fontsize=16)\n",
    "plt.xlabel('Provinces (tinh_2016)', fontsize=12)\n",
    "plt.ylabel('Count', fontsize=12)\n",
    "plt.legend(title='Plot Quality', labels=plot_quality_distribution.columns)\n",
    "plt.xticks(rotation=45)\n",
    "plt.tight_layout()\n",
    "\n",
    "# Show the plot\n",
    "plt.show()\n"
   ]
  },
  {
   "cell_type": "code",
   "execution_count": 47,
   "metadata": {},
   "outputs": [
    {
     "name": "stdout",
     "output_type": "stream",
     "text": [
      "\n",
      "  2. eststo `var': logit SWC_dummy i.`var', or\n",
      "  3. }\n",
      "\n",
      "note: 0.land_type != 0 predicts failure perfectly;\n",
      "      0.land_type omitted and 2 obs not used.\n",
      "\n",
      "note: 2.land_type omitted because of collinearity.\n",
      "Iteration 0:   log likelihood = -158.71066  \n",
      "Iteration 1:   log likelihood = -150.43035  \n",
      "Iteration 2:   log likelihood = -147.97578  \n",
      "Iteration 3:   log likelihood = -147.97288  \n",
      "Iteration 4:   log likelihood = -147.97288  \n",
      "\n",
      "Logistic regression                                     Number of obs =    465\n",
      "                                                        LR chi2(1)    =  21.48\n",
      "                                                        Prob > chi2   = 0.0000\n",
      "Log likelihood = -147.97288                             Pseudo R2     = 0.0677\n",
      "\n",
      "---------------------------------------------------------------------------------------\n",
      "            SWC_dummy | Odds ratio   Std. err.      z    P>|z|     [95% conf. interval]\n",
      "----------------------+----------------------------------------------------------------\n",
      "            land_type |\n",
      "   ANNUAL CROPS LAND  |          1  (empty)\n",
      "   HOUSE WITH GARDEN  |   4.504489   1.413952     4.79   0.000     2.434753     8.33367\n",
      "PERENNIAL CROPS LAND  |          1  (omitted)\n",
      "                      |\n",
      "                _cons |   .0773639   .0154539   -12.81   0.000     .0523005    .1144381\n",
      "---------------------------------------------------------------------------------------\n",
      "Note: _cons estimates baseline odds.\n",
      "\n",
      "Iteration 0:   log likelihood = -158.93766  \n",
      "Iteration 1:   log likelihood = -153.43646  \n",
      "Iteration 2:   log likelihood = -152.78776  \n",
      "Iteration 3:   log likelihood = -152.35244  \n",
      "Iteration 4:   log likelihood = -152.20917  \n",
      "Iteration 5:   log likelihood = -152.20763  \n",
      "Iteration 6:   log likelihood = -152.20763  \n",
      "\n",
      "Logistic regression                                     Number of obs =    467\n",
      "                                                        LR chi2(3)    =  13.46\n",
      "                                                        Prob > chi2   = 0.0037\n",
      "Log likelihood = -152.20763                             Pseudo R2     = 0.0423\n",
      "\n",
      "---------------------------------------------------------------------------------\n",
      "      SWC_dummy | Odds ratio   Std. err.      z    P>|z|     [95% conf. interval]\n",
      "----------------+----------------------------------------------------------------\n",
      "          slope |\n",
      "          FLAT  |          1  (base)\n",
      "MODERATE SLOPE  |   .5934195   .3142358    -0.99   0.324     .2101946    1.675336\n",
      "  SLIGHT SLOPE  |   .3317172   .1072814    -3.41   0.001     .1759864    .6252547\n",
      "   STEEP SLOPE  |   4.391304   6.292571     1.03   0.302     .2647612    72.83376\n",
      "                |\n",
      "          _cons |   .2277228    .052613    -6.40   0.000     .1447922    .3581522\n",
      "---------------------------------------------------------------------------------\n",
      "Note: _cons estimates baseline odds.\n",
      "\n",
      "note: 1.problems != 0 predicts failure perfectly;\n",
      "      1.problems omitted and 2 obs not used.\n",
      "\n",
      "note: 2.problems != 0 predicts failure perfectly;\n",
      "      2.problems omitted and 2 obs not used.\n",
      "\n",
      "Iteration 0:   log likelihood = -158.48262  \n",
      "Iteration 1:   log likelihood = -155.97893  \n",
      "Iteration 2:   log likelihood = -154.13752  \n",
      "Iteration 3:   log likelihood = -154.10367  \n",
      "Iteration 4:   log likelihood = -154.10365  \n",
      "Iteration 5:   log likelihood = -154.10365  \n",
      "\n",
      "Logistic regression                                     Number of obs =    463\n",
      "                                                        LR chi2(2)    =   8.76\n",
      "                                                        Prob > chi2   = 0.0125\n",
      "Log likelihood = -154.10365                             Pseudo R2     = 0.0276\n",
      "\n",
      "-----------------------------------------------------------------------------------\n",
      "        SWC_dummy | Odds ratio   Std. err.      z    P>|z|     [95% conf. interval]\n",
      "------------------+----------------------------------------------------------------\n",
      "         problems |\n",
      "        DRY LAND  |          1  (base)\n",
      "         GULLIES  |          1  (empty)\n",
      "  LOW-LYING LAND  |          1  (empty)\n",
      "      NO PROBLEM  |   1.766667   .5547611     1.81   0.070     .9546935    3.269229\n",
      "STONY SOILS/CLAY  |   23.55556   29.42345     2.53   0.011     2.036339    272.4812\n",
      "                  |\n",
      "            _cons |   .0849057   .0208447   -10.05   0.000     .0524762    .1373759\n",
      "-----------------------------------------------------------------------------------\n",
      "Note: _cons estimates baseline odds.\n",
      "\n",
      "Iteration 0:   log likelihood = -158.93766  \n",
      "Iteration 1:   log likelihood = -157.64487  \n",
      "Iteration 2:   log likelihood = -155.78398  \n",
      "Iteration 3:   log likelihood =  -155.7259  \n",
      "Iteration 4:   log likelihood = -155.72579  \n",
      "Iteration 5:   log likelihood = -155.72579  \n",
      "\n",
      "Logistic regression                                     Number of obs =    467\n",
      "                                                        LR chi2(2)    =   6.42\n",
      "                                                        Prob > chi2   = 0.0403\n",
      "Log likelihood = -155.72579                             Pseudo R2     = 0.0202\n",
      "\n",
      "--------------------------------------------------------------------------------------\n",
      "           SWC_dummy | Odds ratio   Std. err.      z    P>|z|     [95% conf. interval]\n",
      "---------------------+----------------------------------------------------------------\n",
      "plot_quality_village |\n",
      "            AVERAGE  |          1  (base)\n",
      "BETTER THAN AVERAGE  |   16.65217   20.55954     2.28   0.023     1.480944     187.242\n",
      "  LESS THAN AVERAGE  |   .5046113   .3758095    -0.92   0.358     .1172261    2.172149\n",
      "                     |\n",
      "               _cons |   .1201044   .0187417   -13.58   0.000     .0884572    .1630741\n",
      "--------------------------------------------------------------------------------------\n",
      "Note: _cons estimates baseline odds.\n",
      "\n",
      "note: 0.plot_quality_last_3_years != 0 predicts failure perfectly;\n",
      "      0.plot_quality_last_3_years omitted and 3 obs not used.\n",
      "\n",
      "note: 2.plot_quality_last_3_years != 0 predicts failure perfectly;\n",
      "      2.plot_quality_last_3_years omitted and 20 obs not used.\n",
      "\n",
      "note: 3.plot_quality_last_3_years omitted because of collinearity.\n",
      "Iteration 0:   log likelihood = -156.14308  \n",
      "Iteration 1:   log likelihood = -152.96023  \n",
      "Iteration 2:   log likelihood = -152.73465  \n",
      "Iteration 3:   log likelihood = -152.73417  \n",
      "Iteration 4:   log likelihood = -152.73417  \n",
      "\n",
      "Logistic regression                                     Number of obs =    443\n",
      "                                                        LR chi2(1)    =   6.82\n",
      "                                                        Prob > chi2   = 0.0090\n",
      "Log likelihood = -152.73417                             Pseudo R2     = 0.0218\n",
      "\n",
      "-------------------------------------------------------------------------------------------\n",
      "                SWC_dummy | Odds ratio   Std. err.      z    P>|z|     [95% conf. interval]\n",
      "--------------------------+----------------------------------------------------------------\n",
      "plot_quality_last_3_years |\n",
      "         GOT A LOT WORSE  |          1  (empty)\n",
      "      GOT SOMEWHAT WORSE  |      2.385   .7664855     2.70   0.007     1.270373    4.477602\n",
      "       IMPROVED A LITTLE  |          1  (empty)\n",
      "               NO CHANGE  |          1  (omitted)\n",
      "                          |\n",
      "                    _cons |   .1006289   .0186624   -12.38   0.000     .0699618    .1447388\n",
      "-------------------------------------------------------------------------------------------\n",
      "Note: _cons estimates baseline odds.\n",
      "\n",
      "Iteration 0:   log likelihood = -158.93766  \n",
      "Iteration 1:   log likelihood = -158.63221  \n",
      "Iteration 2:   log likelihood = -158.63033  \n",
      "Iteration 3:   log likelihood = -158.63033  \n",
      "\n",
      "Logistic regression                                     Number of obs =    467\n",
      "                                                        LR chi2(1)    =   0.61\n",
      "                                                        Prob > chi2   = 0.4330\n",
      "Log likelihood = -158.63033                             Pseudo R2     = 0.0019\n",
      "\n",
      "------------------------------------------------------------------------------\n",
      "   SWC_dummy | Odds ratio   Std. err.      z    P>|z|     [95% conf. interval]\n",
      "-------------+----------------------------------------------------------------\n",
      "  irrigation |\n",
      "         No  |          1  (base)\n",
      "        Yes  |     2.0825   2.165932     0.71   0.481     .2711949    15.99147\n",
      "             |\n",
      "       _cons |   .0588235   .0605289    -2.75   0.006     .0078284    .4420081\n",
      "------------------------------------------------------------------------------\n",
      "Note: _cons estimates baseline odds.\n",
      "\n",
      "Iteration 0:   log likelihood = -154.76826  \n",
      "Iteration 1:   log likelihood = -147.74467  \n",
      "Iteration 2:   log likelihood = -145.63117  \n",
      "Iteration 3:   log likelihood =  -145.6275  \n",
      "Iteration 4:   log likelihood =  -145.6275  \n",
      "\n",
      "Logistic regression                                     Number of obs =    449\n",
      "                                                        LR chi2(5)    =  18.28\n",
      "                                                        Prob > chi2   = 0.0026\n",
      "Log likelihood = -145.6275                              Pseudo R2     = 0.0591\n",
      "\n",
      "-------------------------------------------------------------------------------------------\n",
      "                SWC_dummy | Odds ratio   Std. err.      z    P>|z|     [95% conf. interval]\n",
      "--------------------------+----------------------------------------------------------------\n",
      "             water_source |\n",
      "               BORE WELL  |          1  (base)\n",
      "                   CANAL  |   2.857143   2.024237     1.48   0.138       .71264    11.45496\n",
      "                DUG WELL  |      .9375   .3922551    -0.15   0.877     .4128801    2.128721\n",
      "                   OTHER  |        2.5   3.171249     0.72   0.470     .2080613    30.03922\n",
      " WATER FROM POND OR LAKE  |      .3125    .153699    -2.36   0.018     .1191785    .8194119\n",
      "WATER FROM SPRING, RIVER  |      .3125   .1596128    -2.28   0.023     .1148391    .8503749\n",
      "                          |\n",
      "                    _cons |         .2   .0660578    -4.87   0.000     .1046857    .3820961\n",
      "-------------------------------------------------------------------------------------------\n",
      "Note: _cons estimates baseline odds.\n",
      "\n",
      "Iteration 0:   log likelihood = -153.55316  \n",
      "Iteration 1:   log likelihood = -152.95473  \n",
      "Iteration 2:   log likelihood = -152.95026  \n",
      "Iteration 3:   log likelihood = -152.95026  \n",
      "\n",
      "Logistic regression                                     Number of obs =    457\n",
      "                                                        LR chi2(1)    =   1.21\n",
      "                                                        Prob > chi2   = 0.2722\n",
      "Log likelihood = -152.95026                             Pseudo R2     = 0.0039\n",
      "\n",
      "------------------------------------------------------------------------------\n",
      "   SWC_dummy | Odds ratio   Std. err.      z    P>|z|     [95% conf. interval]\n",
      "-------------+----------------------------------------------------------------\n",
      "    red_book |\n",
      "         No  |          1  (base)\n",
      "        Yes  |   1.486395   .5529963     1.07   0.287     .7168927    3.081868\n",
      "             |\n",
      "       _cons |   .0869565   .0286687    -7.41   0.000      .045569    .1659339\n",
      "------------------------------------------------------------------------------\n",
      "Note: _cons estimates baseline odds.\n",
      "\n",
      "Iteration 0:   log likelihood = -153.55316  \n",
      "Iteration 1:   log likelihood = -148.11319  \n",
      "Iteration 2:   log likelihood = -147.74957  \n",
      "Iteration 3:   log likelihood = -147.74878  \n",
      "Iteration 4:   log likelihood = -147.74878  \n",
      "\n",
      "Logistic regression                                     Number of obs =    457\n",
      "                                                        LR chi2(1)    =  11.61\n",
      "                                                        Prob > chi2   = 0.0007\n",
      "Log likelihood = -147.74878                             Pseudo R2     = 0.0378\n",
      "\n",
      "---------------------------------------------------------------------------------\n",
      "      SWC_dummy | Odds ratio   Std. err.      z    P>|z|     [95% conf. interval]\n",
      "----------------+----------------------------------------------------------------\n",
      "obtain_mortgage |\n",
      "            No  |          1  (base)\n",
      "           Yes  |   2.880061   .8912741     3.42   0.001     1.570311    5.282234\n",
      "                |\n",
      "          _cons |   .0758621   .0167761   -11.66   0.000     .0491802    .1170198\n",
      "---------------------------------------------------------------------------------\n",
      "Note: _cons estimates baseline odds.\n",
      "\n",
      "Iteration 0:   log likelihood =  -161.1631  \n",
      "Iteration 1:   log likelihood = -160.94407  \n",
      "Iteration 2:   log likelihood = -160.94354  \n",
      "Iteration 3:   log likelihood = -160.94354  \n",
      "\n",
      "Logistic regression                                     Number of obs =    468\n",
      "                                                        LR chi2(1)    =   0.44\n",
      "                                                        Prob > chi2   = 0.5075\n",
      "Log likelihood = -160.94354                             Pseudo R2     = 0.0014\n",
      "\n",
      "----------------------------------------------------------------------------------\n",
      "       SWC_dummy | Odds ratio   Std. err.      z    P>|z|     [95% conf. interval]\n",
      "-----------------+----------------------------------------------------------------\n",
      "natural_disaster |\n",
      "             No  |          1  (base)\n",
      "            Yes  |   1.231534   .3838186     0.67   0.504     .6685931    2.268459\n",
      "                 |\n",
      "           _cons |   .1141869   .0209816   -11.81   0.000     .0796544    .1636901\n",
      "----------------------------------------------------------------------------------\n",
      "Note: _cons estimates baseline odds.\n",
      "\n",
      "Iteration 0:   log likelihood =  -161.1631  \n",
      "Iteration 1:   log likelihood = -154.03853  \n",
      "Iteration 2:   log likelihood = -153.32122  \n",
      "Iteration 3:   log likelihood = -153.31962  \n",
      "Iteration 4:   log likelihood = -153.31962  \n",
      "\n",
      "Logistic regression                                     Number of obs =    468\n",
      "                                                        LR chi2(3)    =  15.69\n",
      "                                                        Prob > chi2   = 0.0013\n",
      "Log likelihood = -153.31962                             Pseudo R2     = 0.0487\n",
      "\n",
      "---------------------------------------------------------------------------------\n",
      "      SWC_dummy | Odds ratio   Std. err.      z    P>|z|     [95% conf. interval]\n",
      "----------------+----------------------------------------------------------------\n",
      "tinh_2016_label |\n",
      "       Dak Lak  |          1  (base)\n",
      "      Dak Nong  |    .439946   .1918572    -1.88   0.060     .1871529    1.034194\n",
      "      Lam Dong  |   2.144737   .7291624     2.24   0.025       1.1015    4.176028\n",
      "        Others  |   1.715789   1.392611     0.67   0.506     .3496158    8.420481\n",
      "                |\n",
      "          _cons |   .1165644   .0282573    -8.87   0.000     .0724802    .1874618\n",
      "---------------------------------------------------------------------------------\n",
      "Note: _cons estimates baseline odds.\n",
      "\n",
      "Iteration 0:   log likelihood = -158.93766  \n",
      "Iteration 1:   log likelihood =  -156.6262  \n",
      "Iteration 2:   log likelihood = -155.92773  \n",
      "Iteration 3:   log likelihood = -155.92543  \n",
      "Iteration 4:   log likelihood = -155.92543  \n",
      "\n",
      "Logistic regression                                     Number of obs =    467\n",
      "                                                        LR chi2(1)    =   6.02\n",
      "                                                        Prob > chi2   = 0.0141\n",
      "Log likelihood = -155.92543                             Pseudo R2     = 0.0190\n",
      "\n",
      "------------------------------------------------------------------------------\n",
      "   SWC_dummy | Odds ratio   Std. err.      z    P>|z|     [95% conf. interval]\n",
      "-------------+----------------------------------------------------------------\n",
      "    distance |   .9998675   .0000702    -1.89   0.059     .9997298    1.000005\n",
      "       _cons |   .1549073   .0283675   -10.18   0.000     .1081919    .2217935\n",
      "------------------------------------------------------------------------------\n",
      "Note: _cons estimates baseline odds.\n",
      "Note: 1 failure and 0 successes completely determined.\n",
      "\n",
      "Iteration 0:   log likelihood = -158.93766  \n",
      "Iteration 1:   log likelihood = -158.62242  \n",
      "Iteration 2:   log likelihood = -158.62052  \n",
      "Iteration 3:   log likelihood = -158.62052  \n",
      "\n",
      "Logistic regression                                     Number of obs =    467\n",
      "                                                        LR chi2(1)    =   0.63\n",
      "                                                        Prob > chi2   = 0.4258\n",
      "Log likelihood = -158.62052                             Pseudo R2     = 0.0020\n",
      "\n",
      "------------------------------------------------------------------------------\n",
      "   SWC_dummy | Odds ratio   Std. err.      z    P>|z|     [95% conf. interval]\n",
      "-------------+----------------------------------------------------------------\n",
      "  total_area |   .9999839   .0000216    -0.75   0.455     .9999416    1.000026\n",
      "       _cons |   .1335154   .0270187    -9.95   0.000     .0898005    .1985107\n",
      "------------------------------------------------------------------------------\n",
      "Note: _cons estimates baseline odds.\n",
      "\n",
      "Iteration 0:   log likelihood = -158.25354  \n",
      "Iteration 1:   log likelihood = -157.12435  \n",
      "Iteration 2:   log likelihood = -156.65647  \n",
      "Iteration 3:   log likelihood = -156.65603  \n",
      "Iteration 4:   log likelihood = -156.65603  \n",
      "\n",
      "Logistic regression                                     Number of obs =    461\n",
      "                                                        LR chi2(1)    =   3.20\n",
      "                                                        Prob > chi2   = 0.0739\n",
      "Log likelihood = -156.65603                             Pseudo R2     = 0.0101\n",
      "\n",
      "----------------------------------------------------------------------------------------\n",
      "             SWC_dummy | Odds ratio   Std. err.      z    P>|z|     [95% conf. interval]\n",
      "-----------------------+----------------------------------------------------------------\n",
      "Coffee_quantity_tonnes |   1.066584    .035955     1.91   0.056     .9983908    1.139434\n",
      "                 _cons |   .1041333    .018293   -12.88   0.000     .0738006    .1469332\n",
      "----------------------------------------------------------------------------------------\n",
      "Note: _cons estimates baseline odds.\n",
      "\n",
      "Iteration 0:   log likelihood = -158.93766  \n",
      "Iteration 1:   log likelihood = -158.43926  \n",
      "Iteration 2:   log likelihood = -158.43413  \n",
      "Iteration 3:   log likelihood = -158.43412  \n",
      "\n",
      "Logistic regression                                     Number of obs =    467\n",
      "                                                        LR chi2(1)    =   1.01\n",
      "                                                        Prob > chi2   = 0.3156\n",
      "Log likelihood = -158.43412                             Pseudo R2     = 0.0032\n",
      "\n",
      "-------------------------------------------------------------------------------------\n",
      "          SWC_dummy | Odds ratio   Std. err.      z    P>|z|     [95% conf. interval]\n",
      "--------------------+----------------------------------------------------------------\n",
      "Coffee_area_hectare |   .7788844   .2115082    -0.92   0.357     .4574324    1.326231\n",
      "              _cons |   .1383431   .0288594    -9.48   0.000     .0919159     .208221\n",
      "-------------------------------------------------------------------------------------\n",
      "Note: _cons estimates baseline odds.\n",
      "\n",
      "Iteration 0:   log likelihood = -156.02318  \n",
      "Iteration 1:   log likelihood = -156.02225  \n",
      "Iteration 2:   log likelihood = -156.02225  \n",
      "\n",
      "Logistic regression                                     Number of obs =    460\n",
      "                                                        LR chi2(1)    =   0.00\n",
      "                                                        Prob > chi2   = 0.9656\n",
      "Log likelihood = -156.02225                             Pseudo R2     = 0.0000\n",
      "\n",
      "-------------------------------------------------------------------------------------\n",
      "          SWC_dummy | Odds ratio   Std. err.      z    P>|z|     [95% conf. interval]\n",
      "--------------------+----------------------------------------------------------------\n",
      "Coffee_productivity |   1.000262   .0059952     0.04   0.965     .9885806    1.012082\n",
      "              _cons |   .1190567   .0183915   -13.78   0.000     .0879555    .1611554\n",
      "-------------------------------------------------------------------------------------\n",
      "Note: _cons estimates baseline odds.\n",
      "\n"
     ]
    }
   ],
   "source": [
    "%%stata -d df_clean\n",
    "set showbaselevels all\n",
    "foreach var in land_type slope problems plot_quality_village plot_quality_last_3_year irrigation water_source red_book obtain_mortgage natural_disaster ///\n",
    "tinh_2016_label { \n",
    "eststo `var': logit SWC_dummy i.`var', or\n",
    "}\n",
    "foreach var in distance total_area Coffee_quantity_tonnes Coffee_area_hectare Coffee_productivity ///\n",
    "{ \n",
    "eststo `var': logit SWC_dummy `var', or\n",
    "}"
   ]
  },
  {
   "cell_type": "code",
   "execution_count": 58,
   "metadata": {},
   "outputs": [
    {
     "name": "stdout",
     "output_type": "stream",
     "text": [
      "\n",
      "  2. eststo `var': reg Coffee_quantity_tonnes i.`var'\n",
      "  3. }\n",
      "\n",
      "      Source |       SS           df       MS      Number of obs   =       460\n",
      "-------------+----------------------------------   F(2, 457)       =      6.37\n",
      "       Model |  131.208549         2  65.6042745   Prob > F        =    0.0019\n",
      "    Residual |  4706.12702       457  10.2978709   R-squared       =    0.0271\n",
      "-------------+----------------------------------   Adj R-squared   =    0.0229\n",
      "       Total |  4837.33557       459  10.5388575   Root MSE        =     3.209\n",
      "\n",
      "---------------------------------------------------------------------------------------\n",
      "Coffee_quantity_ton~s | Coefficient  Std. err.      t    P>|t|     [95% conf. interval]\n",
      "----------------------+----------------------------------------------------------------\n",
      "            land_type |\n",
      "   ANNUAL CROPS LAND  |          0  (base)\n",
      "   HOUSE WITH GARDEN  |  -7.369761   2.294767    -3.21   0.001    -11.87937   -2.860157\n",
      "PERENNIAL CROPS LAND  |  -6.618378   2.275251    -2.91   0.004    -11.08963   -2.147127\n",
      "                      |\n",
      "                _cons |       8.85   2.269127     3.90   0.000     4.390784    13.30922\n",
      "---------------------------------------------------------------------------------------\n",
      "\n",
      "      Source |       SS           df       MS      Number of obs   =       460\n",
      "-------------+----------------------------------   F(3, 456)       =      0.49\n",
      "       Model |  15.4277801         3  5.14259337   Prob > F        =    0.6919\n",
      "    Residual |  4821.90779       456  10.5743592   R-squared       =    0.0032\n",
      "-------------+----------------------------------   Adj R-squared   =   -0.0034\n",
      "       Total |  4837.33557       459  10.5388575   Root MSE        =    3.2518\n",
      "\n",
      "---------------------------------------------------------------------------------\n",
      "Coffee_quanti~s | Coefficient  Std. err.      t    P>|t|     [95% conf. interval]\n",
      "----------------+----------------------------------------------------------------\n",
      "          slope |\n",
      "          FLAT  |          0  (base)\n",
      "MODERATE SLOPE  |  -.5874136   .5918863    -0.99   0.322    -1.750577    .5757494\n",
      "  SLIGHT SLOPE  |    -.29147    .349021    -0.84   0.404    -.9773591    .3944192\n",
      "   STEEP SLOPE  |  -1.410789   2.318006    -0.61   0.543    -5.966087    3.144509\n",
      "                |\n",
      "          _cons |   2.360789   .2932071     8.05   0.000     1.784584    2.936993\n",
      "---------------------------------------------------------------------------------\n",
      "\n",
      "      Source |       SS           df       MS      Number of obs   =       460\n",
      "-------------+----------------------------------   F(4, 455)       =      1.94\n",
      "       Model |  80.9784232         4  20.2446058   Prob > F        =    0.1033\n",
      "    Residual |  4756.35715       455  10.4535322   R-squared       =    0.0167\n",
      "-------------+----------------------------------   Adj R-squared   =    0.0081\n",
      "       Total |  4837.33557       459  10.5388575   Root MSE        =    3.2332\n",
      "\n",
      "-----------------------------------------------------------------------------------\n",
      "Coffee_quantity~s | Coefficient  Std. err.      t    P>|t|     [95% conf. interval]\n",
      "------------------+----------------------------------------------------------------\n",
      "         problems |\n",
      "        DRY LAND  |          0  (base)\n",
      "         GULLIES  |  -1.002845   2.296306    -0.44   0.663    -5.515526    3.509835\n",
      "  LOW-LYING LAND  |  -1.352845   2.296306    -0.59   0.556    -5.865526    3.159835\n",
      "      NO PROBLEM  |   .7688201    .303818     2.53   0.012     .1717596    1.365881\n",
      "STONY SOILS/CLAY  |  -.8195118   1.879033    -0.44   0.663    -4.512171    2.873148\n",
      "                  |\n",
      "            _cons |   1.752845   .2150688     8.15   0.000     1.330194    2.175496\n",
      "-----------------------------------------------------------------------------------\n",
      "\n",
      "      Source |       SS           df       MS      Number of obs   =       460\n",
      "-------------+----------------------------------   F(2, 457)       =      1.17\n",
      "       Model |  24.7083287         2  12.3541643   Prob > F        =    0.3103\n",
      "    Residual |  4812.62724       457   10.530913   R-squared       =    0.0051\n",
      "-------------+----------------------------------   Adj R-squared   =    0.0008\n",
      "       Total |  4837.33557       459  10.5388575   Root MSE        =    3.2451\n",
      "\n",
      "--------------------------------------------------------------------------------------\n",
      "Coffee_quantity_to~s | Coefficient  Std. err.      t    P>|t|     [95% conf. interval]\n",
      "---------------------+----------------------------------------------------------------\n",
      "plot_quality_village |\n",
      "            AVERAGE  |          0  (base)\n",
      "BETTER THAN AVERAGE  |  -.7861872   1.880228    -0.42   0.676    -4.481153    2.908779\n",
      "  LESS THAN AVERAGE  |  -.8464729   .5708222    -1.48   0.139    -1.968235    .2752889\n",
      "                     |\n",
      "               _cons |   2.186187   .1579708    13.84   0.000     1.875748    2.496626\n",
      "--------------------------------------------------------------------------------------\n",
      "\n",
      "      Source |       SS           df       MS      Number of obs   =       459\n",
      "-------------+----------------------------------   F(3, 455)       =      1.26\n",
      "       Model |  39.7181771         3  13.2393924   Prob > F        =    0.2890\n",
      "    Residual |  4796.36776       455  10.5414676   R-squared       =    0.0082\n",
      "-------------+----------------------------------   Adj R-squared   =    0.0017\n",
      "       Total |  4836.08594       458  10.5591396   Root MSE        =    3.2468\n",
      "\n",
      "-------------------------------------------------------------------------------------------\n",
      "   Coffee_quantity_tonnes | Coefficient  Std. err.      t    P>|t|     [95% conf. interval]\n",
      "--------------------------+----------------------------------------------------------------\n",
      "plot_quality_last_3_years |\n",
      "         GOT A LOT WORSE  |          0  (base)\n",
      "      GOT SOMEWHAT WORSE  |  -.4644928   1.904837    -0.24   0.807    -4.207862    3.278876\n",
      "       IMPROVED A LITTLE  |   -.110614   2.017086    -0.05   0.956    -4.074574    3.853346\n",
      "               NO CHANGE  |   .2662203   1.882652     0.14   0.888    -3.433551    3.965991\n",
      "                          |\n",
      "                    _cons |   2.016667   1.874519     1.08   0.283    -1.667123    5.700456\n",
      "-------------------------------------------------------------------------------------------\n",
      "\n",
      "      Source |       SS           df       MS      Number of obs   =       460\n",
      "-------------+----------------------------------   F(1, 458)       =      1.22\n",
      "       Model |   12.812376         1   12.812376   Prob > F        =    0.2707\n",
      "    Residual |   4824.5232       458  10.5338934   R-squared       =    0.0026\n",
      "-------------+----------------------------------   Adj R-squared   =    0.0005\n",
      "       Total |  4837.33557       459  10.5388575   Root MSE        =    3.2456\n",
      "\n",
      "------------------------------------------------------------------------------\n",
      "Coffee_qua~s | Coefficient  Std. err.      t    P>|t|     [95% conf. interval]\n",
      "-------------+----------------------------------------------------------------\n",
      "  irrigation |\n",
      "         No  |          0  (base)\n",
      "        Yes  |   .8846417   .8021342     1.10   0.271     -.691678    2.460962\n",
      "             |\n",
      "       _cons |   1.264706   .7871727     1.61   0.109    -.2822121    2.811624\n",
      "------------------------------------------------------------------------------\n",
      "\n",
      "      Source |       SS           df       MS      Number of obs   =       443\n",
      "-------------+----------------------------------   F(5, 437)       =      2.74\n",
      "       Model |  145.668891         5  29.1337781   Prob > F        =    0.0187\n",
      "    Residual |  4639.63048       437  10.6170034   R-squared       =    0.0304\n",
      "-------------+----------------------------------   Adj R-squared   =    0.0193\n",
      "       Total |  4785.29937       442  10.8264692   Root MSE        =    3.2584\n",
      "\n",
      "-------------------------------------------------------------------------------------------\n",
      "   Coffee_quantity_tonnes | Coefficient  Std. err.      t    P>|t|     [95% conf. interval]\n",
      "--------------------------+----------------------------------------------------------------\n",
      "             water_source |\n",
      "               BORE WELL  |          0  (base)\n",
      "                   CANAL  |  -1.044364   1.105696    -0.94   0.345    -3.217507     1.12878\n",
      "                DUG WELL  |  -1.744935   .5056267    -3.45   0.001    -2.738697   -.7511726\n",
      "                   OTHER  |  -2.097364   3.282966    -0.64   0.523    -8.549729    4.355002\n",
      " WATER FROM POND OR LAKE  |  -.6433414   .4893957    -1.31   0.189    -1.605203    .3185205\n",
      "WATER FROM SPRING, RIVER  |  -1.051649   .5000822    -2.10   0.036    -2.034515   -.0687841\n",
      "                          |\n",
      "                    _cons |   3.097364   .4010782     7.72   0.000     2.309082    3.885646\n",
      "-------------------------------------------------------------------------------------------\n",
      "\n",
      "      Source |       SS           df       MS      Number of obs   =       450\n",
      "-------------+----------------------------------   F(1, 448)       =      0.17\n",
      "       Model |  1.83493893         1  1.83493893   Prob > F        =    0.6791\n",
      "    Residual |  4797.54367       448  10.7088028   R-squared       =    0.0004\n",
      "-------------+----------------------------------   Adj R-squared   =   -0.0018\n",
      "       Total |  4799.37861       449  10.6890392   Root MSE        =    3.2724\n",
      "\n",
      "------------------------------------------------------------------------------\n",
      "Coffee_qua~s | Coefficient  Std. err.      t    P>|t|     [95% conf. interval]\n",
      "-------------+----------------------------------------------------------------\n",
      "    red_book |\n",
      "         No  |          0  (base)\n",
      "        Yes  |   .1444008   .3488423     0.41   0.679    -.5411697    .8299712\n",
      "             |\n",
      "       _cons |   2.006908   .2987307     6.72   0.000     1.419821    2.593996\n",
      "------------------------------------------------------------------------------\n",
      "\n",
      "      Source |       SS           df       MS      Number of obs   =       450\n",
      "-------------+----------------------------------   F(1, 448)       =      4.07\n",
      "       Model |  43.2184973         1  43.2184973   Prob > F        =    0.0442\n",
      "    Residual |  4756.16011       448  10.6164288   R-squared       =    0.0090\n",
      "-------------+----------------------------------   Adj R-squared   =    0.0068\n",
      "       Total |  4799.37861       449  10.6890392   Root MSE        =    3.2583\n",
      "\n",
      "---------------------------------------------------------------------------------\n",
      "Coffee_quanti~s | Coefficient  Std. err.      t    P>|t|     [95% conf. interval]\n",
      "----------------+----------------------------------------------------------------\n",
      "obtain_mortgage |\n",
      "            No  |          0  (base)\n",
      "           Yes  |   .6643533    .329271     2.02   0.044     .0172458    1.311461\n",
      "                |\n",
      "          _cons |   1.900209   .1862638    10.20   0.000      1.53415    2.266268\n",
      "---------------------------------------------------------------------------------\n",
      "\n",
      "      Source |       SS           df       MS      Number of obs   =       461\n",
      "-------------+----------------------------------   F(1, 459)       =      5.75\n",
      "       Model |  59.8570755         1  59.8570755   Prob > F        =    0.0169\n",
      "    Residual |  4781.01779       459  10.4161608   R-squared       =    0.0124\n",
      "-------------+----------------------------------   Adj R-squared   =    0.0102\n",
      "       Total |  4840.87487       460   10.523641   Root MSE        =    3.2274\n",
      "\n",
      "----------------------------------------------------------------------------------\n",
      "Coffee_quantit~s | Coefficient  Std. err.      t    P>|t|     [95% conf. interval]\n",
      "-----------------+----------------------------------------------------------------\n",
      "natural_disaster |\n",
      "             No  |          0  (base)\n",
      "            Yes  |  -.7745982   .3231265    -2.40   0.017    -1.409589   -.1396075\n",
      "                 |\n",
      "           _cons |   2.366057   .1818438    13.01   0.000     2.008708    2.723407\n",
      "----------------------------------------------------------------------------------\n",
      "\n",
      "      Source |       SS           df       MS      Number of obs   =       461\n",
      "-------------+----------------------------------   F(3, 457)       =      7.66\n",
      "       Model |  231.748549         3  77.2495165   Prob > F        =    0.0001\n",
      "    Residual |  4609.12632       457  10.0856156   R-squared       =    0.0479\n",
      "-------------+----------------------------------   Adj R-squared   =    0.0416\n",
      "       Total |  4840.87487       460   10.523641   Root MSE        =    3.1758\n",
      "\n",
      "---------------------------------------------------------------------------------\n",
      "Coffee_quanti~s | Coefficient  Std. err.      t    P>|t|     [95% conf. interval]\n",
      "----------------+----------------------------------------------------------------\n",
      "tinh_2016_label |\n",
      "       Dak Lak  |          0  (base)\n",
      "      Dak Nong  |   1.446161   .3435972     4.21   0.000     .7709348    2.121388\n",
      "      Lam Dong  |   1.443977   .3868767     3.73   0.000     .6836995    2.204255\n",
      "        Others  |   .1559196   .9860475     0.16   0.874     -1.78183    2.093669\n",
      "                |\n",
      "          _cons |   1.276808   .2354049     5.42   0.000     .8141974    1.739418\n",
      "---------------------------------------------------------------------------------\n",
      "\n",
      "      Source |       SS           df       MS      Number of obs   =       460\n",
      "-------------+----------------------------------   F(1, 458)       =      3.69\n",
      "       Model |  38.6969618         1  38.6969618   Prob > F        =    0.0552\n",
      "    Residual |  4798.63861       458  10.4773769   R-squared       =    0.0080\n",
      "-------------+----------------------------------   Adj R-squared   =    0.0058\n",
      "       Total |  4837.33557       459  10.5388575   Root MSE        =    3.2369\n",
      "\n",
      "------------------------------------------------------------------------------\n",
      "Coffee_qua~s | Coefficient  Std. err.      t    P>|t|     [95% conf. interval]\n",
      "-------------+----------------------------------------------------------------\n",
      "    distance |   .0000151   7.84e-06     1.92   0.055    -3.40e-07    .0000305\n",
      "       _cons |   2.063073   .1534739    13.44   0.000     1.761472    2.364673\n",
      "------------------------------------------------------------------------------\n",
      "\n",
      "      Source |       SS           df       MS      Number of obs   =       460\n",
      "-------------+----------------------------------   F(1, 458)       =    264.77\n",
      "       Model |  1772.05737         1  1772.05737   Prob > F        =    0.0000\n",
      "    Residual |   3065.2782       458  6.69274717   R-squared       =    0.3663\n",
      "-------------+----------------------------------   Adj R-squared   =    0.3649\n",
      "       Total |  4837.33557       459  10.5388575   Root MSE        =     2.587\n",
      "\n",
      "------------------------------------------------------------------------------\n",
      "Coffee_qua~s | Coefficient  Std. err.      t    P>|t|     [95% conf. interval]\n",
      "-------------+----------------------------------------------------------------\n",
      "  total_area |   .0002325   .0000143    16.27   0.000     .0002044    .0002606\n",
      "       _cons |    .470431    .157432     2.99   0.003     .1610524    .7798096\n",
      "------------------------------------------------------------------------------\n",
      "\n",
      "      Source |       SS           df       MS      Number of obs   =       460\n",
      "-------------+----------------------------------   F(1, 458)       =    318.53\n",
      "       Model |  1984.25476         1  1984.25476   Prob > F        =    0.0000\n",
      "    Residual |  2853.08081       458  6.22943408   R-squared       =    0.4102\n",
      "-------------+----------------------------------   Adj R-squared   =    0.4089\n",
      "       Total |  4837.33557       459  10.5388575   Root MSE        =    2.4959\n",
      "\n",
      "-------------------------------------------------------------------------------------\n",
      "Coffee_quantity_t~s | Coefficient  Std. err.      t    P>|t|     [95% conf. interval]\n",
      "--------------------+----------------------------------------------------------------\n",
      "Coffee_area_hectare |   2.887841   .1618076    17.85   0.000     2.569863    3.205818\n",
      "              _cons |   .3371148   .1532452     2.20   0.028     .0359639    .6382656\n",
      "-------------------------------------------------------------------------------------\n",
      "\n",
      "      Source |       SS           df       MS      Number of obs   =       460\n",
      "-------------+----------------------------------   F(1, 458)       =      3.46\n",
      "       Model |  36.2229873         1  36.2229873   Prob > F        =    0.0637\n",
      "    Residual |  4801.11258       458  10.4827786   R-squared       =    0.0075\n",
      "-------------+----------------------------------   Adj R-squared   =    0.0053\n",
      "       Total |  4837.33557       459  10.5388575   Root MSE        =    3.2377\n",
      "\n",
      "-------------------------------------------------------------------------------------\n",
      "Coffee_quantity_t~s | Coefficient  Std. err.      t    P>|t|     [95% conf. interval]\n",
      "--------------------+----------------------------------------------------------------\n",
      "Coffee_productivity |   .0116619   .0062736     1.86   0.064    -.0006667    .0239905\n",
      "              _cons |   2.055898   .1544568    13.31   0.000     1.752366     2.35943\n",
      "-------------------------------------------------------------------------------------\n",
      "\n"
     ]
    }
   ],
   "source": [
    "%%stata -d df_clean\n",
    "set showbaselevels all\n",
    "foreach var in land_type slope problems plot_quality_village plot_quality_last_3_year irrigation water_source red_book obtain_mortgage natural_disaster ///\n",
    "tinh_2016_label { \n",
    "eststo `var': reg Coffee_quantity_tonnes i.`var'\n",
    "}\n",
    "foreach var in distance total_area Coffee_area_hectare Coffee_productivity ///\n",
    "{ \n",
    "eststo `var': reg Coffee_quantity_tonnes `var'\n",
    "}"
   ]
  },
  {
   "cell_type": "code",
   "execution_count": 64,
   "metadata": {},
   "outputs": [
    {
     "name": "stdout",
     "output_type": "stream",
     "text": [
      "\n",
      "      Source |       SS           df       MS      Number of obs   =       461\n",
      "-------------+----------------------------------   F(1, 459)       =      4.32\n",
      "       Model |  45.1106112         1  45.1106112   Prob > F        =    0.0383\n",
      "    Residual |  4795.76426       459  10.4482881   R-squared       =    0.0093\n",
      "-------------+----------------------------------   Adj R-squared   =    0.0072\n",
      "       Total |  4840.87487       460   10.523641   Root MSE        =    3.2324\n",
      "\n",
      "------------------------------------------------------------------------------\n",
      "Coffee_qua~s | Coefficient  Std. err.      t    P>|t|     [95% conf. interval]\n",
      "-------------+----------------------------------------------------------------\n",
      "   SWC_dummy |\n",
      "          0  |          0  (base)\n",
      "          1  |   1.005967   .4841357     2.08   0.038     .0545702    1.957365\n",
      "             |\n",
      "       _cons |   2.011633   .1594416    12.62   0.000     1.698307    2.324959\n",
      "------------------------------------------------------------------------------\n",
      "\n",
      "      Source |       SS           df       MS      Number of obs   =       433\n",
      "-------------+----------------------------------   F(13, 419)      =     31.60\n",
      "       Model |  2350.26103        13   180.78931   Prob > F        =    0.0000\n",
      "    Residual |  2397.18614       419  5.72120798   R-squared       =    0.4951\n",
      "-------------+----------------------------------   Adj R-squared   =    0.4794\n",
      "       Total |  4747.44717       432   10.989461   Root MSE        =    2.3919\n",
      "\n",
      "-------------------------------------------------------------------------------------------\n",
      "   Coffee_quantity_tonnes | Coefficient  Std. err.      t    P>|t|     [95% conf. interval]\n",
      "--------------------------+----------------------------------------------------------------\n",
      "                SWC_dummy |\n",
      "                       0  |          0  (base)\n",
      "                       1  |   1.187758   .4020246     2.95   0.003     .3975216    1.977994\n",
      "                          |\n",
      "                land_type |\n",
      "       ANNUAL CROPS LAND  |          0  (base)\n",
      "       HOUSE WITH GARDEN  |  -7.663006   1.734791    -4.42   0.000    -11.07298   -4.253028\n",
      "    PERENNIAL CROPS LAND  |  -7.148284   1.709094    -4.18   0.000    -10.50775   -3.788817\n",
      "                          |\n",
      "             water_source |\n",
      "               BORE WELL  |    1.41066    .394281     3.58   0.000     .6356451    2.185676\n",
      "                   CANAL  |   .2704413   .8078385     0.33   0.738     -1.31748    1.858362\n",
      "                DUG WELL  |          0  (base)\n",
      "                   OTHER  |   .8271984   2.420751     0.34   0.733    -3.931131    5.585528\n",
      " WATER FROM POND OR LAKE  |    .024407   .3593483     0.07   0.946    -.6819431    .7307571\n",
      "WATER FROM SPRING, RIVER  |  -.0572544   .3345602    -0.17   0.864      -.71488    .6003712\n",
      "                          |\n",
      "          obtain_mortgage |\n",
      "                      No  |          0  (base)\n",
      "                     Yes  |   .2394262   .2662712     0.90   0.369    -.2839676    .7628201\n",
      "                          |\n",
      "          tinh_2016_label |\n",
      "                 Dak Lak  |          0  (base)\n",
      "                Dak Nong  |   .1515271   .3013553     0.50   0.615    -.4408295    .7438837\n",
      "                Lam Dong  |   .7193607   .3206654     2.24   0.025     .0890475    1.349674\n",
      "                  Others  |   .1263472   1.221047     0.10   0.918    -2.273793    2.526487\n",
      "                          |\n",
      "      Coffee_area_hectare |   2.980373   .1680583    17.73   0.000      2.65003    3.310715\n",
      "                    _cons |   6.871521   1.723637     3.99   0.000     3.483468    10.25957\n",
      "-------------------------------------------------------------------------------------------\n",
      "\n"
     ]
    }
   ],
   "source": [
    "%%stata\n",
    "reg Coffee_quantity_tonnes i.SWC_dummy\n",
    "reg Coffee_quantity_tonnes i.SWC_dummy i.land_type ib(\"DUG WELL\").water_source i.obtain_mortgage i.tinh_2016_label ///\n",
    "Coffee_area_hectare "
   ]
  }
 ],
 "metadata": {
  "kernelspec": {
   "display_name": "base",
   "language": "python",
   "name": "python3"
  },
  "language_info": {
   "codemirror_mode": {
    "name": "ipython",
    "version": 3
   },
   "file_extension": ".py",
   "mimetype": "text/x-python",
   "name": "python",
   "nbconvert_exporter": "python",
   "pygments_lexer": "ipython3",
   "version": "3.12.3"
  }
 },
 "nbformat": 4,
 "nbformat_minor": 2
}
